{
  "cells": [
    {
      "cell_type": "markdown",
      "metadata": {
        "id": "view-in-github",
        "colab_type": "text"
      },
      "source": [
        "<a href=\"https://colab.research.google.com/github/TanSA05/ML/blob/main/ML_Project_Simple_Image_Captioning_GAN.ipynb\" target=\"_parent\"><img src=\"https://colab.research.google.com/assets/colab-badge.svg\" alt=\"Open In Colab\"/></a>"
      ]
    },
    {
      "cell_type": "code",
      "execution_count": 1,
      "metadata": {
        "colab": {
          "base_uri": "https://localhost:8080/"
        },
        "id": "63OJnMXYo0jM",
        "outputId": "385e745a-5b12-44a1-e396-6a94d4144829"
      },
      "outputs": [
        {
          "output_type": "stream",
          "name": "stdout",
          "text": [
            "Mounted at /content/drive\n"
          ]
        }
      ],
      "source": [
        "from google.colab import drive\n",
        "drive.mount('/content/drive')"
      ]
    },
    {
      "cell_type": "code",
      "execution_count": null,
      "metadata": {
        "colab": {
          "base_uri": "https://localhost:8080/"
        },
        "id": "XFzL3IBlDTbo",
        "outputId": "3ef6506c-72a4-47e0-a9b6-033b76ee2b49"
      },
      "outputs": [
        {
          "name": "stdout",
          "output_type": "stream",
          "text": [
            "shell-init: error retrieving current directory: getcwd: cannot access parent directories: Transport endpoint is not connected\n",
            "fusermount: bad mount point drive: Transport endpoint is not connected\n",
            "shell-init: error retrieving current directory: getcwd: cannot access parent directories: Transport endpoint is not connected\n",
            "/bin/bash: google-drive-ocamlfuse: command not found\n"
          ]
        }
      ],
      "source": [
        "!fusermount -u drive\n",
        "!google-drive-ocamlfuse drive"
      ]
    },
    {
      "cell_type": "code",
      "execution_count": 3,
      "metadata": {
        "colab": {
          "base_uri": "https://localhost:8080/"
        },
        "id": "RptCMJ5MqMJK",
        "outputId": "bc56fbd0-158c-4463-a54a-c007e21d094c"
      },
      "outputs": [
        {
          "output_type": "stream",
          "name": "stdout",
          "text": [
            "/content/drive/.shortcut-targets-by-id/11T4-AnRH3gQUdHY4MHkO3O5Gm6ZZa5rm/IntroToML/gan-image-captioning\n"
          ]
        }
      ],
      "source": [
        "%cd /content/drive/MyDrive/IntroToML/gan-image-captioning"
      ]
    },
    {
      "cell_type": "code",
      "execution_count": 4,
      "metadata": {
        "colab": {
          "base_uri": "https://localhost:8080/",
          "height": 53
        },
        "id": "JLYItmKZqdkK",
        "outputId": "f8359a0c-c12e-4b3b-e17e-22f78c60eda3"
      },
      "outputs": [
        {
          "output_type": "execute_result",
          "data": {
            "application/vnd.google.colaboratory.intrinsic+json": {
              "type": "string"
            },
            "text/plain": [
              "'/content/drive/.shortcut-targets-by-id/11T4-AnRH3gQUdHY4MHkO3O5Gm6ZZa5rm/IntroToML/gan-image-captioning'"
            ]
          },
          "metadata": {},
          "execution_count": 4
        }
      ],
      "source": [
        "pwd"
      ]
    },
    {
      "cell_type": "code",
      "execution_count": null,
      "metadata": {
        "colab": {
          "base_uri": "https://localhost:8080/",
          "height": 1000
        },
        "id": "GkRkpndDqfXA",
        "outputId": "a1d5b73b-b6d8-4db4-d5ca-f684983140f4"
      },
      "outputs": [
        {
          "name": "stdout",
          "output_type": "stream",
          "text": [
            "Collecting asn1crypto==0.24.0\n",
            "  Downloading asn1crypto-0.24.0-py2.py3-none-any.whl (101 kB)\n",
            "\u001b[K     |████████████████████████████████| 101 kB 4.4 MB/s \n",
            "\u001b[?25hCollecting astroid==2.2.5\n",
            "  Downloading astroid-2.2.5-py3-none-any.whl (193 kB)\n",
            "\u001b[K     |████████████████████████████████| 193 kB 36.5 MB/s \n",
            "\u001b[?25hCollecting attrs==19.1.0\n",
            "  Downloading attrs-19.1.0-py2.py3-none-any.whl (35 kB)\n",
            "Collecting backcall==0.1.0\n",
            "  Downloading backcall-0.1.0.zip (11 kB)\n",
            "Collecting bleach==3.1.0\n",
            "  Downloading bleach-3.1.0-py2.py3-none-any.whl (157 kB)\n",
            "\u001b[K     |████████████████████████████████| 157 kB 53.3 MB/s \n",
            "\u001b[?25hCollecting certifi==2019.6.16\n",
            "  Downloading certifi-2019.6.16-py2.py3-none-any.whl (157 kB)\n",
            "\u001b[K     |████████████████████████████████| 157 kB 55.4 MB/s \n",
            "\u001b[?25hRequirement already satisfied: chardet==3.0.4 in /usr/local/lib/python3.7/dist-packages (from -r reqs (line 7)) (3.0.4)\n",
            "Collecting colorama==0.4.1\n",
            "  Downloading colorama-0.4.1-py2.py3-none-any.whl (15 kB)\n",
            "Collecting cryptography==2.6.1\n",
            "  Downloading cryptography-2.6.1-cp34-abi3-manylinux1_x86_64.whl (2.3 MB)\n",
            "\u001b[K     |████████████████████████████████| 2.3 MB 55.8 MB/s \n",
            "\u001b[?25hCollecting cycler==0.10.0\n",
            "  Downloading cycler-0.10.0-py2.py3-none-any.whl (6.5 kB)\n",
            "Collecting Cython==0.29.11\n",
            "  Downloading Cython-0.29.11-cp37-cp37m-manylinux1_x86_64.whl (2.1 MB)\n",
            "\u001b[K     |████████████████████████████████| 2.1 MB 16.9 MB/s \n",
            "\u001b[?25hCollecting cytoolz==0.9.0.1\n",
            "  Downloading cytoolz-0.9.0.1.tar.gz (443 kB)\n",
            "\u001b[K     |████████████████████████████████| 443 kB 34.6 MB/s \n",
            "\u001b[?25hCollecting dask==1.1.4\n",
            "  Downloading dask-1.1.4-py2.py3-none-any.whl (704 kB)\n",
            "\u001b[K     |████████████████████████████████| 704 kB 38.2 MB/s \n",
            "\u001b[?25hCollecting decorator==4.4.0\n",
            "  Downloading decorator-4.4.0-py2.py3-none-any.whl (8.3 kB)\n",
            "Collecting defusedxml==0.5.0\n",
            "  Downloading defusedxml-0.5.0-py2.py3-none-any.whl (33 kB)\n",
            "Requirement already satisfied: docopt==0.6.2 in /usr/local/lib/python3.7/dist-packages (from -r reqs (line 16)) (0.6.2)\n",
            "Collecting editdistance==0.4\n",
            "  Downloading editdistance-0.4.tar.gz (20 kB)\n",
            "Requirement already satisfied: entrypoints==0.3 in /usr/local/lib/python3.7/dist-packages (from -r reqs (line 18)) (0.3)\n",
            "Requirement already satisfied: graphviz==0.10.1 in /usr/local/lib/python3.7/dist-packages (from -r reqs (line 19)) (0.10.1)\n",
            "Collecting h5py==2.9.0\n",
            "  Downloading h5py-2.9.0-cp37-cp37m-manylinux1_x86_64.whl (2.8 MB)\n",
            "\u001b[K     |████████████████████████████████| 2.8 MB 45.7 MB/s \n",
            "\u001b[?25hCollecting idna==2.8\n",
            "  Downloading idna-2.8-py2.py3-none-any.whl (58 kB)\n",
            "\u001b[K     |████████████████████████████████| 58 kB 5.4 MB/s \n",
            "\u001b[?25hCollecting imageio==2.5.0\n",
            "  Downloading imageio-2.5.0-py3-none-any.whl (3.3 MB)\n",
            "\u001b[K     |████████████████████████████████| 3.3 MB 44.9 MB/s \n",
            "\u001b[?25hRequirement already satisfied: ipython-genutils==0.2.0 in /usr/local/lib/python3.7/dist-packages (from -r reqs (line 23)) (0.2.0)\n",
            "Collecting ipywidgets==7.4.2\n",
            "  Downloading ipywidgets-7.4.2-py2.py3-none-any.whl (111 kB)\n",
            "\u001b[K     |████████████████████████████████| 111 kB 60.4 MB/s \n",
            "\u001b[?25hCollecting isort==4.3.16\n",
            "  Downloading isort-4.3.16-py2.py3-none-any.whl (42 kB)\n",
            "\u001b[K     |████████████████████████████████| 42 kB 794 kB/s \n",
            "\u001b[?25hCollecting jedi==0.13.3\n",
            "  Downloading jedi-0.13.3-py2.py3-none-any.whl (178 kB)\n",
            "\u001b[K     |████████████████████████████████| 178 kB 61.6 MB/s \n",
            "\u001b[?25hCollecting Jinja2==2.10\n",
            "  Downloading Jinja2-2.10-py2.py3-none-any.whl (126 kB)\n",
            "\u001b[K     |████████████████████████████████| 126 kB 59.1 MB/s \n",
            "\u001b[?25hCollecting jsonschema==3.0.1\n",
            "  Downloading jsonschema-3.0.1-py2.py3-none-any.whl (54 kB)\n",
            "\u001b[K     |████████████████████████████████| 54 kB 2.6 MB/s \n",
            "\u001b[?25hCollecting lazy-object-proxy==1.3.1\n",
            "  Downloading lazy-object-proxy-1.3.1.tar.gz (32 kB)\n",
            "Collecting MarkupSafe==1.1.1\n",
            "  Downloading MarkupSafe-1.1.1-cp37-cp37m-manylinux2010_x86_64.whl (33 kB)\n",
            "Collecting matplotlib==3.0.3\n",
            "  Downloading matplotlib-3.0.3-cp37-cp37m-manylinux1_x86_64.whl (13.0 MB)\n",
            "\u001b[K     |████████████████████████████████| 13.0 MB 17.1 MB/s \n",
            "\u001b[?25hCollecting mccabe==0.6.1\n",
            "  Downloading mccabe-0.6.1-py2.py3-none-any.whl (8.6 kB)\n",
            "Requirement already satisfied: mistune==0.8.4 in /usr/local/lib/python3.7/dist-packages (from -r reqs (line 33)) (0.8.4)\n",
            "Collecting mosestokenizer==1.0.0\n",
            "  Downloading mosestokenizer-1.0.0-py3-none-any.whl (51 kB)\n",
            "\u001b[K     |████████████████████████████████| 51 kB 6.4 MB/s \n",
            "\u001b[?25hCollecting nbconvert==5.4.1\n",
            "  Downloading nbconvert-5.4.1-py2.py3-none-any.whl (407 kB)\n",
            "\u001b[K     |████████████████████████████████| 407 kB 53.2 MB/s \n",
            "\u001b[?25hCollecting nbformat==4.4.0\n",
            "  Downloading nbformat-4.4.0-py2.py3-none-any.whl (155 kB)\n",
            "\u001b[K     |████████████████████████████████| 155 kB 36.1 MB/s \n",
            "\u001b[?25hCollecting networkx==2.2\n",
            "  Downloading networkx-2.2.zip (1.7 MB)\n",
            "\u001b[K     |████████████████████████████████| 1.7 MB 53.7 MB/s \n",
            "\u001b[?25hCollecting nltk==3.4.1\n",
            "  Downloading nltk-3.4.1.zip (3.1 MB)\n",
            "\u001b[K     |████████████████████████████████| 3.1 MB 42.2 MB/s \n",
            "\u001b[?25hCollecting olefile==0.46\n",
            "  Downloading olefile-0.46.zip (112 kB)\n",
            "\u001b[K     |████████████████████████████████| 112 kB 63.4 MB/s \n",
            "\u001b[?25hCollecting openfile==0.0.7\n",
            "  Downloading openfile-0.0.7-py3-none-any.whl (2.4 kB)\n",
            "Collecting pandas==0.24.2\n",
            "  Downloading pandas-0.24.2-cp37-cp37m-manylinux1_x86_64.whl (10.1 MB)\n",
            "\u001b[K     |████████████████████████████████| 10.1 MB 11.3 MB/s \n",
            "\u001b[?25hCollecting pandocfilters==1.4.2\n",
            "  Downloading pandocfilters-1.4.2.tar.gz (14 kB)\n",
            "Collecting parso==0.3.4\n",
            "  Downloading parso-0.3.4-py2.py3-none-any.whl (93 kB)\n",
            "\u001b[K     |████████████████████████████████| 93 kB 1.5 MB/s \n",
            "\u001b[?25hRequirement already satisfied: pickleshare==0.7.5 in /usr/local/lib/python3.7/dist-packages (from -r reqs (line 44)) (0.7.5)\n",
            "Collecting prometheus-client==0.6.0\n",
            "  Downloading prometheus_client-0.6.0.tar.gz (36 kB)\n",
            "Collecting protobuf==3.7.1\n",
            "  Downloading protobuf-3.7.1-cp37-cp37m-manylinux1_x86_64.whl (1.2 MB)\n",
            "\u001b[K     |████████████████████████████████| 1.2 MB 28.9 MB/s \n",
            "\u001b[?25hCollecting psutil==5.6.1\n",
            "  Downloading psutil-5.6.1.tar.gz (427 kB)\n",
            "\u001b[K     |████████████████████████████████| 427 kB 60.5 MB/s \n",
            "\u001b[?25hCollecting pycocotools==2.0\n",
            "  Downloading pycocotools-2.0.0.tar.gz (1.5 MB)\n",
            "\u001b[K     |████████████████████████████████| 1.5 MB 60.0 MB/s \n",
            "\u001b[?25hCollecting pycparser==2.19\n",
            "  Downloading pycparser-2.19.tar.gz (158 kB)\n",
            "\u001b[K     |████████████████████████████████| 158 kB 51.8 MB/s \n",
            "\u001b[?25hCollecting pylint==2.3.1\n",
            "  Downloading pylint-2.3.1-py3-none-any.whl (765 kB)\n",
            "\u001b[K     |████████████████████████████████| 765 kB 49.8 MB/s \n",
            "\u001b[?25hCollecting pyOpenSSL==19.0.0\n",
            "  Downloading pyOpenSSL-19.0.0-py2.py3-none-any.whl (53 kB)\n",
            "\u001b[K     |████████████████████████████████| 53 kB 1.8 MB/s \n",
            "\u001b[?25hCollecting pyreadline==2.1\n",
            "  Downloading pyreadline-2.1.zip (109 kB)\n",
            "\u001b[K     |████████████████████████████████| 109 kB 59.4 MB/s \n",
            "\u001b[?25hCollecting pyrsistent==0.14.11\n",
            "  Downloading pyrsistent-0.14.11.tar.gz (104 kB)\n",
            "\u001b[K     |████████████████████████████████| 104 kB 55.2 MB/s \n",
            "\u001b[?25hRequirement already satisfied: pytz==2018.9 in /usr/local/lib/python3.7/dist-packages (from -r reqs (line 54)) (2018.9)\n",
            "Collecting PyWavelets==1.0.2\n",
            "  Downloading PyWavelets-1.0.2-cp37-cp37m-manylinux1_x86_64.whl (4.4 MB)\n",
            "\u001b[K     |████████████████████████████████| 4.4 MB 41.2 MB/s \n",
            "\u001b[?25hCollecting PyYAML==5.1\n",
            "  Downloading PyYAML-5.1.tar.gz (274 kB)\n",
            "\u001b[K     |████████████████████████████████| 274 kB 68.5 MB/s \n",
            "\u001b[?25hCollecting qtconsole==4.4.3\n",
            "  Downloading qtconsole-4.4.3-py2.py3-none-any.whl (113 kB)\n",
            "\u001b[K     |████████████████████████████████| 113 kB 51.8 MB/s \n",
            "\u001b[?25hCollecting QtPy==1.7.0\n",
            "  Downloading QtPy-1.7.0-py2.py3-none-any.whl (45 kB)\n",
            "\u001b[K     |████████████████████████████████| 45 kB 3.0 MB/s \n",
            "\u001b[?25hCollecting requests==2.21.0\n",
            "  Downloading requests-2.21.0-py2.py3-none-any.whl (57 kB)\n",
            "\u001b[K     |████████████████████████████████| 57 kB 5.1 MB/s \n",
            "\u001b[?25hCollecting sacrebleu==1.3.1\n",
            "  Downloading sacrebleu-1.3.1.tar.gz (25 kB)\n",
            "Collecting scikit-image==0.14.2\n",
            "  Downloading scikit_image-0.14.2-cp37-cp37m-manylinux1_x86_64.whl (25.3 MB)\n",
            "\u001b[K     |████████████████████████████████| 25.3 MB 1.2 MB/s \n",
            "\u001b[?25hCollecting scikit-learn==0.20.3\n",
            "  Downloading scikit_learn-0.20.3-cp37-cp37m-manylinux1_x86_64.whl (5.4 MB)\n",
            "\u001b[K     |████████████████████████████████| 5.4 MB 10.3 MB/s \n",
            "\u001b[?25hCollecting scipy==1.2.1\n",
            "  Downloading scipy-1.2.1-cp37-cp37m-manylinux1_x86_64.whl (24.8 MB)\n",
            "\u001b[K     |████████████████████████████████| 24.8 MB 1.5 MB/s \n",
            "\u001b[?25hCollecting Send2Trash==1.5.0\n",
            "  Downloading Send2Trash-1.5.0-py3-none-any.whl (12 kB)\n",
            "Collecting six==1.12.0\n",
            "  Downloading six-1.12.0-py2.py3-none-any.whl (10 kB)\n",
            "Collecting subword-nmt==0.3.5\n",
            "  Downloading subword_nmt-0.3.5-py2.py3-none-any.whl (25 kB)\n",
            "Collecting tabulate==0.8.3\n",
            "  Downloading tabulate-0.8.3.tar.gz (46 kB)\n",
            "\u001b[K     |████████████████████████████████| 46 kB 3.7 MB/s \n",
            "\u001b[?25hCollecting tensorboardx==1.1\n",
            "  Downloading tensorboardX-1.1-py2.py3-none-any.whl (42 kB)\n",
            "\u001b[K     |████████████████████████████████| 42 kB 1.0 MB/s \n",
            "\u001b[?25hCollecting terminado==0.8.1\n",
            "  Downloading terminado-0.8.1-py2.py3-none-any.whl (33 kB)\n",
            "Collecting testpath==0.4.2\n",
            "  Downloading testpath-0.4.2-py2.py3-none-any.whl (163 kB)\n",
            "\u001b[K     |████████████████████████████████| 163 kB 46.2 MB/s \n",
            "\u001b[?25hCollecting toolwrapper==0.4.1\n",
            "  Downloading toolwrapper-0.4.1.tar.gz (2.7 kB)\n",
            "Collecting toolz==0.9.0\n",
            "  Downloading toolz-0.9.0.tar.gz (45 kB)\n",
            "\u001b[K     |████████████████████████████████| 45 kB 3.1 MB/s \n",
            "\u001b[?25hCollecting torch==1.0.1\n",
            "  Downloading torch-1.0.1-cp37-cp37m-manylinux1_x86_64.whl (560.1 MB)\n",
            "\u001b[K     |████████████████████████████████| 560.1 MB 15 kB/s \n",
            "\u001b[?25hCollecting torchvision==0.2.1\n",
            "  Downloading torchvision-0.2.1-py2.py3-none-any.whl (54 kB)\n",
            "\u001b[K     |████████████████████████████████| 54 kB 2.6 MB/s \n",
            "\u001b[?25hCollecting torchviz==0.0.1\n",
            "  Downloading torchviz-0.0.1.tar.gz (41 kB)\n",
            "\u001b[K     |████████████████████████████████| 41 kB 141 kB/s \n",
            "\u001b[?25hCollecting traitlets==4.3.2\n",
            "  Downloading traitlets-4.3.2-py2.py3-none-any.whl (74 kB)\n",
            "\u001b[K     |████████████████████████████████| 74 kB 2.9 MB/s \n",
            "\u001b[?25hCollecting typed-ast==1.3.1\n",
            "  Downloading typed_ast-1.3.1-cp37-cp37m-manylinux1_x86_64.whl (734 kB)\n",
            "\u001b[K     |████████████████████████████████| 734 kB 37.5 MB/s \n",
            "\u001b[?25hCollecting wcwidth==0.1.7\n",
            "  Downloading wcwidth-0.1.7-py2.py3-none-any.whl (21 kB)\n",
            "Requirement already satisfied: webencodings==0.5.1 in /usr/local/lib/python3.7/dist-packages (from -r reqs (line 79)) (0.5.1)\n",
            "Collecting widgetsnbextension==3.4.2\n",
            "  Downloading widgetsnbextension-3.4.2-py2.py3-none-any.whl (2.2 MB)\n",
            "\u001b[K     |████████████████████████████████| 2.2 MB 41.1 MB/s \n",
            "\u001b[?25hCollecting win-inet-pton==1.1.0\n",
            "  Downloading win_inet_pton-1.1.0-py2.py3-none-any.whl (4.8 kB)\n",
            "Collecting wincertstore==0.2\n",
            "  Downloading wincertstore-0.2-py2.py3-none-any.whl (8.8 kB)\n",
            "Collecting wrapt==1.11.1\n",
            "  Downloading wrapt-1.11.1.tar.gz (27 kB)\n",
            "Requirement already satisfied: cffi!=1.11.3,>=1.8 in /usr/local/lib/python3.7/dist-packages (from cryptography==2.6.1->-r reqs (line 9)) (1.15.0)\n",
            "Requirement already satisfied: numpy>=1.7 in /usr/local/lib/python3.7/dist-packages (from h5py==2.9.0->-r reqs (line 20)) (1.19.5)\n",
            "Requirement already satisfied: pillow in /usr/local/lib/python3.7/dist-packages (from imageio==2.5.0->-r reqs (line 22)) (7.1.2)\n",
            "Requirement already satisfied: ipykernel>=4.5.1 in /usr/local/lib/python3.7/dist-packages (from ipywidgets==7.4.2->-r reqs (line 24)) (4.10.1)\n",
            "Requirement already satisfied: ipython>=4.0.0 in /usr/local/lib/python3.7/dist-packages (from ipywidgets==7.4.2->-r reqs (line 24)) (5.5.0)\n",
            "Requirement already satisfied: setuptools in /usr/local/lib/python3.7/dist-packages (from jsonschema==3.0.1->-r reqs (line 28)) (57.4.0)\n",
            "Requirement already satisfied: pyparsing!=2.0.4,!=2.1.2,!=2.1.6,>=2.0.1 in /usr/local/lib/python3.7/dist-packages (from matplotlib==3.0.3->-r reqs (line 31)) (3.0.6)\n",
            "Requirement already satisfied: kiwisolver>=1.0.1 in /usr/local/lib/python3.7/dist-packages (from matplotlib==3.0.3->-r reqs (line 31)) (1.3.2)\n",
            "Requirement already satisfied: python-dateutil>=2.1 in /usr/local/lib/python3.7/dist-packages (from matplotlib==3.0.3->-r reqs (line 31)) (2.8.2)\n",
            "Requirement already satisfied: pygments in /usr/local/lib/python3.7/dist-packages (from nbconvert==5.4.1->-r reqs (line 35)) (2.6.1)\n",
            "Requirement already satisfied: jupyter-core in /usr/local/lib/python3.7/dist-packages (from nbconvert==5.4.1->-r reqs (line 35)) (4.9.1)\n",
            "Requirement already satisfied: jupyter-client>=4.1 in /usr/local/lib/python3.7/dist-packages (from qtconsole==4.4.3->-r reqs (line 57)) (5.3.5)\n",
            "Requirement already satisfied: urllib3<1.25,>=1.21.1 in /usr/local/lib/python3.7/dist-packages (from requests==2.21.0->-r reqs (line 59)) (1.24.3)\n",
            "Collecting typing\n",
            "  Downloading typing-3.7.4.3.tar.gz (78 kB)\n",
            "\u001b[K     |████████████████████████████████| 78 kB 6.5 MB/s \n",
            "\u001b[?25hRequirement already satisfied: cloudpickle>=0.2.1 in /usr/local/lib/python3.7/dist-packages (from scikit-image==0.14.2->-r reqs (line 61)) (1.3.0)\n",
            "Requirement already satisfied: dask[array]>=1.0.0 in /usr/local/lib/python3.7/dist-packages (from scikit-image==0.14.2->-r reqs (line 61)) (2.12.0)\n",
            "Requirement already satisfied: tornado>=4 in /usr/local/lib/python3.7/dist-packages (from terminado==0.8.1->-r reqs (line 69)) (5.1.1)\n",
            "Requirement already satisfied: ptyprocess in /usr/local/lib/python3.7/dist-packages (from terminado==0.8.1->-r reqs (line 69)) (0.7.0)\n",
            "Requirement already satisfied: notebook>=4.4.1 in /usr/local/lib/python3.7/dist-packages (from widgetsnbextension==3.4.2->-r reqs (line 80)) (5.3.1)\n",
            "Collecting dask[array]>=1.0.0\n",
            "  Downloading dask-2021.12.0-py3-none-any.whl (1.0 MB)\n",
            "\u001b[K     |████████████████████████████████| 1.0 MB 61.8 MB/s \n",
            "\u001b[?25h  Downloading dask-2021.11.2-py3-none-any.whl (1.0 MB)\n",
            "\u001b[K     |████████████████████████████████| 1.0 MB 65.3 MB/s \n",
            "\u001b[?25h  Downloading dask-2021.11.1-py3-none-any.whl (1.0 MB)\n",
            "\u001b[K     |████████████████████████████████| 1.0 MB 57.8 MB/s \n",
            "\u001b[?25h  Downloading dask-2021.11.0-py3-none-any.whl (1.0 MB)\n",
            "\u001b[K     |████████████████████████████████| 1.0 MB 58.6 MB/s \n",
            "\u001b[?25h  Downloading dask-2021.10.0-py3-none-any.whl (1.0 MB)\n",
            "\u001b[K     |████████████████████████████████| 1.0 MB 53.5 MB/s \n",
            "\u001b[?25h  Downloading dask-2021.9.1-py3-none-any.whl (1.0 MB)\n",
            "\u001b[K     |████████████████████████████████| 1.0 MB 66.2 MB/s \n",
            "\u001b[?25h  Downloading dask-2021.9.0-py3-none-any.whl (1.0 MB)\n",
            "\u001b[K     |████████████████████████████████| 1.0 MB 46.3 MB/s \n",
            "\u001b[?25h  Downloading dask-2021.8.1-py3-none-any.whl (1.0 MB)\n",
            "\u001b[K     |████████████████████████████████| 1.0 MB 46.1 MB/s \n",
            "\u001b[?25h  Downloading dask-2021.8.0-py3-none-any.whl (995 kB)\n",
            "\u001b[K     |████████████████████████████████| 995 kB 40.7 MB/s \n",
            "\u001b[?25h  Downloading dask-2021.7.2-py3-none-any.whl (987 kB)\n",
            "\u001b[K     |████████████████████████████████| 987 kB 30.9 MB/s \n",
            "\u001b[?25h  Downloading dask-2021.7.1-py3-none-any.whl (984 kB)\n",
            "\u001b[K     |████████████████████████████████| 984 kB 45.4 MB/s \n",
            "\u001b[?25h  Downloading dask-2021.7.0-py3-none-any.whl (977 kB)\n",
            "\u001b[K     |████████████████████████████████| 977 kB 38.5 MB/s \n",
            "\u001b[?25h  Downloading dask-2021.6.2-py3-none-any.whl (973 kB)\n",
            "\u001b[K     |████████████████████████████████| 973 kB 51.0 MB/s \n",
            "\u001b[?25h  Downloading dask-2021.6.1-py3-none-any.whl (973 kB)\n",
            "\u001b[K     |████████████████████████████████| 973 kB 26.6 MB/s \n",
            "\u001b[?25h  Downloading dask-2021.6.0-py3-none-any.whl (965 kB)\n",
            "\u001b[K     |████████████████████████████████| 965 kB 63.2 MB/s \n",
            "\u001b[?25h  Downloading dask-2021.5.1-py3-none-any.whl (964 kB)\n",
            "\u001b[K     |████████████████████████████████| 964 kB 63.6 MB/s \n",
            "\u001b[?25h  Downloading dask-2021.5.0-py3-none-any.whl (960 kB)\n",
            "\u001b[K     |████████████████████████████████| 960 kB 46.4 MB/s \n",
            "\u001b[?25h  Downloading dask-2021.4.1-py3-none-any.whl (952 kB)\n",
            "\u001b[K     |████████████████████████████████| 952 kB 21.9 MB/s \n",
            "\u001b[?25h  Downloading dask-2021.4.0-py3-none-any.whl (941 kB)\n",
            "\u001b[K     |████████████████████████████████| 941 kB 51.2 MB/s \n",
            "\u001b[?25h  Downloading dask-2021.3.1-py3-none-any.whl (935 kB)\n",
            "\u001b[K     |████████████████████████████████| 935 kB 47.2 MB/s \n",
            "\u001b[?25h  Downloading dask-2021.3.0-py3-none-any.whl (925 kB)\n",
            "\u001b[K     |████████████████████████████████| 925 kB 57.8 MB/s \n",
            "\u001b[?25h  Downloading dask-2021.2.0-py3-none-any.whl (900 kB)\n",
            "\u001b[K     |████████████████████████████████| 900 kB 57.7 MB/s \n",
            "\u001b[?25h  Downloading dask-2021.1.1-py3-none-any.whl (891 kB)\n",
            "\u001b[K     |████████████████████████████████| 891 kB 44.2 MB/s \n",
            "\u001b[?25h  Downloading dask-2021.1.0-py3-none-any.whl (889 kB)\n",
            "\u001b[K     |████████████████████████████████| 889 kB 59.8 MB/s \n",
            "\u001b[?25h  Downloading dask-2020.12.0-py3-none-any.whl (884 kB)\n",
            "\u001b[K     |████████████████████████████████| 884 kB 74.5 MB/s \n",
            "\u001b[?25h  Downloading dask-2.30.0-py3-none-any.whl (848 kB)\n",
            "\u001b[K     |████████████████████████████████| 848 kB 36.7 MB/s \n",
            "\u001b[?25h  Downloading dask-2.29.0-py3-none-any.whl (847 kB)\n",
            "\u001b[K     |████████████████████████████████| 847 kB 64.5 MB/s \n",
            "\u001b[?25h  Downloading dask-2.28.0-py3-none-any.whl (848 kB)\n",
            "\u001b[K     |████████████████████████████████| 848 kB 49.1 MB/s \n",
            "\u001b[?25h  Downloading dask-2.27.0-py3-none-any.whl (843 kB)\n",
            "\u001b[K     |████████████████████████████████| 843 kB 51.9 MB/s \n",
            "\u001b[?25h  Downloading dask-2.26.0-py3-none-any.whl (843 kB)\n",
            "\u001b[K     |████████████████████████████████| 843 kB 60.7 MB/s \n",
            "\u001b[?25h  Downloading dask-2.25.0-py3-none-any.whl (834 kB)\n",
            "\u001b[K     |████████████████████████████████| 834 kB 35.8 MB/s \n",
            "\u001b[?25h  Downloading dask-2.24.0-py3-none-any.whl (834 kB)\n",
            "\u001b[K     |████████████████████████████████| 834 kB 59.3 MB/s \n",
            "\u001b[?25h  Downloading dask-2.23.0-py3-none-any.whl (831 kB)\n",
            "\u001b[K     |████████████████████████████████| 831 kB 43.8 MB/s \n",
            "\u001b[?25h  Downloading dask-2.22.0-py3-none-any.whl (828 kB)\n",
            "\u001b[K     |████████████████████████████████| 828 kB 60.2 MB/s \n",
            "\u001b[?25h  Downloading dask-2.21.0-py3-none-any.whl (826 kB)\n",
            "\u001b[K     |████████████████████████████████| 826 kB 63.3 MB/s \n",
            "\u001b[?25h  Downloading dask-2.20.0-py3-none-any.whl (826 kB)\n",
            "\u001b[K     |████████████████████████████████| 826 kB 56.8 MB/s \n",
            "\u001b[?25h  Downloading dask-2.19.0-py3-none-any.whl (824 kB)\n",
            "\u001b[K     |████████████████████████████████| 824 kB 45.3 MB/s \n",
            "\u001b[?25h  Downloading dask-2.18.1-py3-none-any.whl (823 kB)\n",
            "\u001b[K     |████████████████████████████████| 823 kB 47.0 MB/s \n",
            "\u001b[?25h  Downloading dask-2.18.0-py3-none-any.whl (822 kB)\n",
            "\u001b[K     |████████████████████████████████| 822 kB 30.1 MB/s \n",
            "\u001b[?25h  Downloading dask-2.17.2-py3-none-any.whl (813 kB)\n",
            "\u001b[K     |████████████████████████████████| 813 kB 60.7 MB/s \n",
            "\u001b[?25h  Downloading dask-2.17.1-py3-none-any.whl (813 kB)\n",
            "\u001b[K     |████████████████████████████████| 813 kB 60.0 MB/s \n",
            "\u001b[?25h  Downloading dask-2.17.0-py3-none-any.whl (812 kB)\n",
            "\u001b[K     |████████████████████████████████| 812 kB 31.1 MB/s \n",
            "\u001b[?25h  Downloading dask-2.16.0-py3-none-any.whl (802 kB)\n",
            "\u001b[K     |████████████████████████████████| 802 kB 33.1 MB/s \n",
            "\u001b[?25h  Downloading dask-2.15.0-py3-none-any.whl (799 kB)\n",
            "\u001b[K     |████████████████████████████████| 799 kB 46.4 MB/s \n",
            "\u001b[?25h  Downloading dask-2.14.0-py3-none-any.whl (794 kB)\n",
            "\u001b[K     |████████████████████████████████| 794 kB 32.9 MB/s \n",
            "\u001b[?25h  Downloading dask-2.13.0-py3-none-any.whl (791 kB)\n",
            "\u001b[K     |████████████████████████████████| 791 kB 68.9 MB/s \n",
            "\u001b[?25h  Downloading dask-2.11.0-py3-none-any.whl (785 kB)\n",
            "\u001b[K     |████████████████████████████████| 785 kB 57.7 MB/s \n",
            "\u001b[?25h  Downloading dask-2.10.1-py3-none-any.whl (783 kB)\n",
            "\u001b[K     |████████████████████████████████| 783 kB 59.7 MB/s \n",
            "\u001b[?25h  Downloading dask-2.10.0-py3-none-any.whl (783 kB)\n",
            "\u001b[K     |████████████████████████████████| 783 kB 46.0 MB/s \n",
            "\u001b[?25h  Downloading dask-2.9.2-py3-none-any.whl (780 kB)\n",
            "\u001b[K     |████████████████████████████████| 780 kB 59.4 MB/s \n",
            "\u001b[?25h  Downloading dask-2.9.1-py3-none-any.whl (772 kB)\n",
            "\u001b[K     |████████████████████████████████| 772 kB 58.8 MB/s \n",
            "\u001b[?25h  Downloading dask-2.9.0-py3-none-any.whl (770 kB)\n",
            "\u001b[K     |████████████████████████████████| 770 kB 44.3 MB/s \n",
            "\u001b[?25h  Downloading dask-2.8.1-py3-none-any.whl (769 kB)\n",
            "\u001b[K     |████████████████████████████████| 769 kB 39.1 MB/s \n",
            "\u001b[?25h  Downloading dask-2.8.0-py3-none-any.whl (767 kB)\n",
            "\u001b[K     |████████████████████████████████| 767 kB 51.2 MB/s \n",
            "\u001b[?25h  Downloading dask-2.7.0-py3-none-any.whl (765 kB)\n",
            "\u001b[K     |████████████████████████████████| 765 kB 48.3 MB/s \n",
            "\u001b[?25h  Downloading dask-2.6.0-py3-none-any.whl (760 kB)\n",
            "\u001b[K     |████████████████████████████████| 760 kB 46.7 MB/s \n",
            "\u001b[?25h  Downloading dask-2.5.2-py3-none-any.whl (760 kB)\n",
            "\u001b[K     |████████████████████████████████| 760 kB 48.0 MB/s \n",
            "\u001b[?25h  Downloading dask-2.5.0-py3-none-any.whl (759 kB)\n",
            "\u001b[K     |████████████████████████████████| 759 kB 49.5 MB/s \n",
            "\u001b[?25h  Downloading dask-2.4.0-py3-none-any.whl (766 kB)\n",
            "\u001b[K     |████████████████████████████████| 766 kB 32.8 MB/s \n",
            "\u001b[?25h  Downloading dask-2.3.0-py3-none-any.whl (763 kB)\n",
            "\u001b[K     |████████████████████████████████| 763 kB 54.6 MB/s \n",
            "\u001b[?25h  Downloading dask-2.2.0-py3-none-any.whl (757 kB)\n",
            "\u001b[K     |████████████████████████████████| 757 kB 56.4 MB/s \n",
            "\u001b[?25h  Downloading dask-2.1.0-py3-none-any.whl (763 kB)\n",
            "\u001b[K     |████████████████████████████████| 763 kB 46.0 MB/s \n",
            "\u001b[?25h  Downloading dask-2.0.0-py3-none-any.whl (760 kB)\n",
            "\u001b[K     |████████████████████████████████| 760 kB 60.8 MB/s \n",
            "\u001b[?25h  Downloading dask-1.2.2-py2.py3-none-any.whl (717 kB)\n",
            "\u001b[K     |████████████████████████████████| 717 kB 59.1 MB/s \n",
            "\u001b[?25h  Downloading dask-1.2.1-py2.py3-none-any.whl (714 kB)\n",
            "\u001b[K     |████████████████████████████████| 714 kB 61.0 MB/s \n",
            "\u001b[?25h  Downloading dask-1.2.0-py2.py3-none-any.whl (711 kB)\n",
            "\u001b[K     |████████████████████████████████| 711 kB 36.9 MB/s \n",
            "\u001b[?25h  Downloading dask-1.1.5-py2.py3-none-any.whl (708 kB)\n",
            "\u001b[K     |████████████████████████████████| 708 kB 67.7 MB/s \n",
            "\u001b[?25hRequirement already satisfied: pexpect in /usr/local/lib/python3.7/dist-packages (from ipython>=4.0.0->ipywidgets==7.4.2->-r reqs (line 24)) (4.8.0)\n",
            "Requirement already satisfied: simplegeneric>0.8 in /usr/local/lib/python3.7/dist-packages (from ipython>=4.0.0->ipywidgets==7.4.2->-r reqs (line 24)) (0.8.1)\n",
            "Requirement already satisfied: prompt-toolkit<2.0.0,>=1.0.4 in /usr/local/lib/python3.7/dist-packages (from ipython>=4.0.0->ipywidgets==7.4.2->-r reqs (line 24)) (1.0.18)\n",
            "Requirement already satisfied: pyzmq>=13 in /usr/local/lib/python3.7/dist-packages (from jupyter-client>=4.1->qtconsole==4.4.3->-r reqs (line 57)) (22.3.0)\n",
            "Building wheels for collected packages: backcall, cytoolz, editdistance, lazy-object-proxy, networkx, nltk, olefile, pandocfilters, prometheus-client, psutil, pycocotools, pycparser, pyreadline, pyrsistent, PyYAML, sacrebleu, tabulate, toolwrapper, toolz, torchviz, wrapt, typing\n",
            "  Building wheel for backcall (setup.py) ... \u001b[?25l\u001b[?25hdone\n",
            "  Created wheel for backcall: filename=backcall-0.1.0-py3-none-any.whl size=10413 sha256=609225982266ef7f36acdd5320a61f9c68f20d8134c1627c60a76ce29ee7bf8c\n",
            "  Stored in directory: /root/.cache/pip/wheels/60/5a/10/2177abb11261d49069a732cbc0e66207783c7ee79c1f807167\n",
            "  Building wheel for cytoolz (setup.py) ... \u001b[?25l\u001b[?25hdone\n",
            "  Created wheel for cytoolz: filename=cytoolz-0.9.0.1-cp37-cp37m-linux_x86_64.whl size=1239733 sha256=f82b6f002a62b7085c3479b424e38b0d60bc9b333c80edd8382a71673adcea51\n",
            "  Stored in directory: /root/.cache/pip/wheels/52/9f/8e/8d8bc15ed2c88ed4e784c603f641df40d19e8410b982766e4f\n",
            "  Building wheel for editdistance (setup.py) ... \u001b[?25l\u001b[?25hdone\n",
            "  Created wheel for editdistance: filename=editdistance-0.4-cp37-cp37m-linux_x86_64.whl size=187837 sha256=ce27bd1e02201fae194ee3e71014c2e6988d7725e7304d44e097ffd0afa61f4e\n",
            "  Stored in directory: /root/.cache/pip/wheels/8f/a9/4b/5f525d653f2dc9bed49739694ea1b5131448cce2ce717298fc\n",
            "  Building wheel for lazy-object-proxy (setup.py) ... \u001b[?25l\u001b[?25hdone\n",
            "  Created wheel for lazy-object-proxy: filename=lazy_object_proxy-1.3.1-cp37-cp37m-linux_x86_64.whl size=46846 sha256=64eb47a42ab1cb63fdc99df745cfe3f66fe0ed30fd0435730a0b1589540d3eea\n",
            "  Stored in directory: /root/.cache/pip/wheels/6a/5f/fa/04ce96d53f9d70f20fe6d97f9b5c541def3d0765ed0036a679\n",
            "  Building wheel for networkx (setup.py) ... \u001b[?25l\u001b[?25hdone\n",
            "  Created wheel for networkx: filename=networkx-2.2-py2.py3-none-any.whl size=1526921 sha256=85cf05ea0ff50eb1a3230c09a28313b7e56ed315c665843e0a80851e1f32c6be\n",
            "  Stored in directory: /root/.cache/pip/wheels/49/fb/7f/02c31ca537b34e1073844b733832e4c3a94071d8edda2c0faa\n",
            "  Building wheel for nltk (setup.py) ... \u001b[?25l\u001b[?25hdone\n",
            "  Created wheel for nltk: filename=nltk-3.4.1-py3-none-any.whl size=1445950 sha256=07fa3696797058c8ae9b5fa8481d15cca9c0ad618e92fd0bedbabd81fe6142ec\n",
            "  Stored in directory: /root/.cache/pip/wheels/71/98/99/63c7bb33964f4671762ed4ed5e494f2b697bfa2dd1aeea6eaf\n",
            "  Building wheel for olefile (setup.py) ... \u001b[?25l\u001b[?25hdone\n",
            "  Created wheel for olefile: filename=olefile-0.46-py2.py3-none-any.whl size=35432 sha256=6d4b733e2fd7dd4018a37094d2a40597c9e8e83e4ae9a11ffbaa14919748d50f\n",
            "  Stored in directory: /root/.cache/pip/wheels/84/53/e6/37d90ccb3ad1a3ca98d2b17107e9fda401a7c541ea1eb6a65a\n",
            "  Building wheel for pandocfilters (setup.py) ... \u001b[?25l\u001b[?25hdone\n",
            "  Created wheel for pandocfilters: filename=pandocfilters-1.4.2-py3-none-any.whl size=7871 sha256=32fd87dbaa5d6e3ca33eb6d7cd2ce586ab1f2dfe2dfb459be241a98c2f47f758\n",
            "  Stored in directory: /root/.cache/pip/wheels/63/99/01/9fe785b86d1e091a6b2a61e06ddb3d8eb1bc9acae5933d4740\n",
            "  Building wheel for prometheus-client (setup.py) ... \u001b[?25l\u001b[?25hdone\n",
            "  Created wheel for prometheus-client: filename=prometheus_client-0.6.0-py3-none-any.whl size=39585 sha256=a599f48c56b6b1f0841a568834e2c24c6dbbe3b6f0f358511d709f8594bfedae\n",
            "  Stored in directory: /root/.cache/pip/wheels/6e/d8/31/c7c67f483036e5841d084f1138abdc078ba7c390544aa0ef28\n",
            "  Building wheel for psutil (setup.py) ... \u001b[?25l\u001b[?25hdone\n",
            "  Created wheel for psutil: filename=psutil-5.6.1-cp37-cp37m-linux_x86_64.whl size=274061 sha256=82814861f7ccd874cce3679776b68d67e0faad5292e5eb628bf2bb21e6f83560\n",
            "  Stored in directory: /root/.cache/pip/wheels/67/58/7f/ecb1510193a6b1becf2fc2a4e4bb385a217865ef0d02ea8b33\n",
            "  Building wheel for pycocotools (setup.py) ... \u001b[?25l\u001b[?25hdone\n",
            "  Created wheel for pycocotools: filename=pycocotools-2.0.0-cp37-cp37m-linux_x86_64.whl size=264059 sha256=69134138162db22a2fdfa550566b2c00b59da75dd977a898c8f5b057e3b77f92\n",
            "  Stored in directory: /root/.cache/pip/wheels/4d/50/dc/e1f07e9eb5678a0ee21bc091220f1f3806ba8e48ef3f2083cb\n",
            "  Building wheel for pycparser (setup.py) ... \u001b[?25l\u001b[?25hdone\n",
            "  Created wheel for pycparser: filename=pycparser-2.19-py2.py3-none-any.whl size=111051 sha256=7cea57e98914c12e1b24c8dcf327ff2cf0df7c646784a4a0c703b97694141741\n",
            "  Stored in directory: /root/.cache/pip/wheels/0e/53/27/fee7fd9562e10dd046caccfc0340b8cf789b46846e660f3380\n",
            "  Building wheel for pyreadline (setup.py) ... \u001b[?25l\u001b[?25hdone\n",
            "  Created wheel for pyreadline: filename=pyreadline-2.1-py3-none-any.whl size=93835 sha256=73fe212fbde7c9c7e1b25b7cc4d55cf8abefe3cc23b900263becc4f9d2d21e4b\n",
            "  Stored in directory: /root/.cache/pip/wheels/00/6e/d4/7c4b7bc22c090baf4f470e7f35c4f22206277229bdb6607df6\n",
            "  Building wheel for pyrsistent (setup.py) ... \u001b[?25l\u001b[?25hdone\n",
            "  Created wheel for pyrsistent: filename=pyrsistent-0.14.11-cp37-cp37m-linux_x86_64.whl size=96960 sha256=e296c024e6c1bda1db43c10dd747579843707b8824152fd39e4e9f3f9809a4cb\n",
            "  Stored in directory: /root/.cache/pip/wheels/20/78/0a/4d5c19e3868f7dd8df2fa8c2933f01ba28948a3f0b10faccf4\n",
            "  Building wheel for PyYAML (setup.py) ... \u001b[?25l\u001b[?25hdone\n",
            "  Created wheel for PyYAML: filename=PyYAML-5.1-cp37-cp37m-linux_x86_64.whl size=44092 sha256=6cafbba6b09604dc3d8e9bc685a07da394db71d886508422760016a8e3a2af39\n",
            "  Stored in directory: /root/.cache/pip/wheels/77/f5/10/d00a2bd30928b972790053b5de0c703ca87324f3fead0f2fd9\n",
            "  Building wheel for sacrebleu (setup.py) ... \u001b[?25l\u001b[?25hdone\n",
            "  Created wheel for sacrebleu: filename=sacrebleu-1.3.1-py3-none-any.whl size=21366 sha256=e650d02916652452e6cab64cc5139de7632ef04c8aa794ffeb232a72402a2696\n",
            "  Stored in directory: /root/.cache/pip/wheels/e8/58/1c/673eca54e784fbf76af55cc8050b2c315891ad7959bf3e3000\n",
            "  Building wheel for tabulate (setup.py) ... \u001b[?25l\u001b[?25hdone\n",
            "  Created wheel for tabulate: filename=tabulate-0.8.3-py3-none-any.whl size=23393 sha256=517c9ac6c2cbd27487ab43460d27bff26a5c24568f623f7bf5a52b58671a85dd\n",
            "  Stored in directory: /root/.cache/pip/wheels/b8/a2/a6/812a8a9735b090913e109133c7c20aaca4cf07e8e18837714f\n",
            "  Building wheel for toolwrapper (setup.py) ... \u001b[?25l\u001b[?25hdone\n",
            "  Created wheel for toolwrapper: filename=toolwrapper-0.4.1-py3-none-any.whl size=2960 sha256=e2e7bf96314b3c2d35e5154ba4d1c531fc648728c7baa25242e9803b34f8c51f\n",
            "  Stored in directory: /root/.cache/pip/wheels/11/4f/6f/56ee9cbe1ff8bb5ec51ef181f0eac9f2d4061602d4639d57de\n",
            "  Building wheel for toolz (setup.py) ... \u001b[?25l\u001b[?25hdone\n",
            "  Created wheel for toolz: filename=toolz-0.9.0-py3-none-any.whl size=53248 sha256=7d68ef83fc3f8b6b5c09405b99171a95e24f2e353b885d76cd761e7a7a72bf76\n",
            "  Stored in directory: /root/.cache/pip/wheels/58/85/f9/3a8ac8d6acedfb76fb78ed9dedd7b5c86dc5bfdef4b2427219\n",
            "  Building wheel for torchviz (setup.py) ... \u001b[?25l\u001b[?25hdone\n",
            "  Created wheel for torchviz: filename=torchviz-0.0.1-py3-none-any.whl size=3522 sha256=262ebb23bcd5cda2877a54dab62c8e27cc8069cbab8863f139d5917906669818\n",
            "  Stored in directory: /root/.cache/pip/wheels/10/7b/c8/3af79ec02e294a832c01037bcb38302bbcee0bb020dcbbbd3e\n",
            "  Building wheel for wrapt (setup.py) ... \u001b[?25l\u001b[?25hdone\n",
            "  Created wheel for wrapt: filename=wrapt-1.11.1-cp37-cp37m-linux_x86_64.whl size=68442 sha256=a95d971bf5130c9d196794198363a4aa831643564980092dec54c98180b0bc5a\n",
            "  Stored in directory: /root/.cache/pip/wheels/4e/58/9d/da8bad4545585ca52311498ff677647c95c7b690b3040171f8\n",
            "  Building wheel for typing (setup.py) ... \u001b[?25l\u001b[?25hdone\n",
            "  Created wheel for typing: filename=typing-3.7.4.3-py3-none-any.whl size=26324 sha256=27f9e22109169f4ab12a8c34c2aa6215702e473fe6782d40154640d88991682d\n",
            "  Stored in directory: /root/.cache/pip/wheels/35/f3/15/01aa6571f0a72ee6ae7b827c1491c37a1f72d686fd22b43b0e\n",
            "Successfully built backcall cytoolz editdistance lazy-object-proxy networkx nltk olefile pandocfilters prometheus-client psutil pycocotools pycparser pyreadline pyrsistent PyYAML sacrebleu tabulate toolwrapper toolz torchviz wrapt typing\n",
            "Installing collected packages: six, decorator, wcwidth, traitlets, pyrsistent, attrs, MarkupSafe, jsonschema, testpath, pandocfilters, nbformat, Jinja2, defusedxml, bleach, terminado, Send2Trash, pycparser, nbconvert, wrapt, typed-ast, toolz, lazy-object-proxy, dask, cycler, asn1crypto, widgetsnbextension, typing, torch, toolwrapper, scipy, PyWavelets, protobuf, parso, openfile, networkx, mccabe, matplotlib, isort, idna, cryptography, certifi, astroid, wincertstore, win-inet-pton, torchviz, torchvision, tensorboardx, tabulate, subword-nmt, scikit-learn, scikit-image, sacrebleu, requests, QtPy, qtconsole, PyYAML, pyreadline, pyOpenSSL, pylint, pycocotools, psutil, prometheus-client, pandas, olefile, nltk, mosestokenizer, jedi, ipywidgets, imageio, h5py, editdistance, cytoolz, Cython, colorama, backcall\n",
            "  Attempting uninstall: six\n",
            "    Found existing installation: six 1.15.0\n",
            "    Uninstalling six-1.15.0:\n",
            "      Successfully uninstalled six-1.15.0\n",
            "  Attempting uninstall: decorator\n",
            "    Found existing installation: decorator 4.4.2\n",
            "    Uninstalling decorator-4.4.2:\n",
            "      Successfully uninstalled decorator-4.4.2\n",
            "  Attempting uninstall: wcwidth\n",
            "    Found existing installation: wcwidth 0.2.5\n",
            "    Uninstalling wcwidth-0.2.5:\n",
            "      Successfully uninstalled wcwidth-0.2.5\n",
            "  Attempting uninstall: traitlets\n",
            "    Found existing installation: traitlets 5.1.1\n",
            "    Uninstalling traitlets-5.1.1:\n",
            "      Successfully uninstalled traitlets-5.1.1\n",
            "  Attempting uninstall: pyrsistent\n",
            "    Found existing installation: pyrsistent 0.18.0\n",
            "    Uninstalling pyrsistent-0.18.0:\n",
            "      Successfully uninstalled pyrsistent-0.18.0\n",
            "  Attempting uninstall: attrs\n",
            "    Found existing installation: attrs 21.2.0\n",
            "    Uninstalling attrs-21.2.0:\n",
            "      Successfully uninstalled attrs-21.2.0\n",
            "  Attempting uninstall: MarkupSafe\n",
            "    Found existing installation: MarkupSafe 2.0.1\n",
            "    Uninstalling MarkupSafe-2.0.1:\n",
            "      Successfully uninstalled MarkupSafe-2.0.1\n",
            "  Attempting uninstall: jsonschema\n",
            "    Found existing installation: jsonschema 2.6.0\n",
            "    Uninstalling jsonschema-2.6.0:\n",
            "      Successfully uninstalled jsonschema-2.6.0\n",
            "  Attempting uninstall: testpath\n",
            "    Found existing installation: testpath 0.5.0\n",
            "    Uninstalling testpath-0.5.0:\n",
            "      Successfully uninstalled testpath-0.5.0\n",
            "  Attempting uninstall: pandocfilters\n",
            "    Found existing installation: pandocfilters 1.5.0\n",
            "    Uninstalling pandocfilters-1.5.0:\n",
            "      Successfully uninstalled pandocfilters-1.5.0\n",
            "  Attempting uninstall: nbformat\n",
            "    Found existing installation: nbformat 5.1.3\n",
            "    Uninstalling nbformat-5.1.3:\n",
            "      Successfully uninstalled nbformat-5.1.3\n",
            "  Attempting uninstall: Jinja2\n",
            "    Found existing installation: Jinja2 2.11.3\n",
            "    Uninstalling Jinja2-2.11.3:\n",
            "      Successfully uninstalled Jinja2-2.11.3\n",
            "  Attempting uninstall: defusedxml\n",
            "    Found existing installation: defusedxml 0.7.1\n",
            "    Uninstalling defusedxml-0.7.1:\n",
            "      Successfully uninstalled defusedxml-0.7.1\n",
            "  Attempting uninstall: bleach\n",
            "    Found existing installation: bleach 4.1.0\n",
            "    Uninstalling bleach-4.1.0:\n",
            "      Successfully uninstalled bleach-4.1.0\n",
            "  Attempting uninstall: terminado\n",
            "    Found existing installation: terminado 0.12.1\n",
            "    Uninstalling terminado-0.12.1:\n",
            "      Successfully uninstalled terminado-0.12.1\n",
            "  Attempting uninstall: Send2Trash\n",
            "    Found existing installation: Send2Trash 1.8.0\n",
            "    Uninstalling Send2Trash-1.8.0:\n",
            "      Successfully uninstalled Send2Trash-1.8.0\n",
            "  Attempting uninstall: pycparser\n",
            "    Found existing installation: pycparser 2.21\n",
            "    Uninstalling pycparser-2.21:\n",
            "      Successfully uninstalled pycparser-2.21\n",
            "  Attempting uninstall: nbconvert\n",
            "    Found existing installation: nbconvert 5.6.1\n",
            "    Uninstalling nbconvert-5.6.1:\n",
            "      Successfully uninstalled nbconvert-5.6.1\n",
            "  Attempting uninstall: wrapt\n",
            "    Found existing installation: wrapt 1.13.3\n",
            "    Uninstalling wrapt-1.13.3:\n",
            "      Successfully uninstalled wrapt-1.13.3\n",
            "  Attempting uninstall: toolz\n",
            "    Found existing installation: toolz 0.11.2\n",
            "    Uninstalling toolz-0.11.2:\n",
            "      Successfully uninstalled toolz-0.11.2\n",
            "  Attempting uninstall: dask\n",
            "    Found existing installation: dask 2.12.0\n",
            "    Uninstalling dask-2.12.0:\n",
            "      Successfully uninstalled dask-2.12.0\n",
            "  Attempting uninstall: cycler\n",
            "    Found existing installation: cycler 0.11.0\n",
            "    Uninstalling cycler-0.11.0:\n",
            "      Successfully uninstalled cycler-0.11.0\n",
            "  Attempting uninstall: widgetsnbextension\n",
            "    Found existing installation: widgetsnbextension 3.5.2\n",
            "    Uninstalling widgetsnbextension-3.5.2:\n",
            "      Successfully uninstalled widgetsnbextension-3.5.2\n",
            "  Attempting uninstall: torch\n",
            "    Found existing installation: torch 1.10.0+cu111\n",
            "    Uninstalling torch-1.10.0+cu111:\n",
            "      Successfully uninstalled torch-1.10.0+cu111\n",
            "  Attempting uninstall: scipy\n",
            "    Found existing installation: scipy 1.4.1\n",
            "    Uninstalling scipy-1.4.1:\n",
            "      Successfully uninstalled scipy-1.4.1\n",
            "  Attempting uninstall: PyWavelets\n",
            "    Found existing installation: PyWavelets 1.2.0\n",
            "    Uninstalling PyWavelets-1.2.0:\n",
            "      Successfully uninstalled PyWavelets-1.2.0\n",
            "  Attempting uninstall: protobuf\n",
            "    Found existing installation: protobuf 3.17.3\n",
            "    Uninstalling protobuf-3.17.3:\n",
            "      Successfully uninstalled protobuf-3.17.3\n",
            "  Attempting uninstall: parso\n",
            "    Found existing installation: parso 0.8.3\n",
            "    Uninstalling parso-0.8.3:\n",
            "      Successfully uninstalled parso-0.8.3\n",
            "  Attempting uninstall: networkx\n",
            "    Found existing installation: networkx 2.6.3\n",
            "    Uninstalling networkx-2.6.3:\n",
            "      Successfully uninstalled networkx-2.6.3\n",
            "  Attempting uninstall: matplotlib\n",
            "    Found existing installation: matplotlib 3.2.2\n",
            "    Uninstalling matplotlib-3.2.2:\n",
            "      Successfully uninstalled matplotlib-3.2.2\n",
            "  Attempting uninstall: idna\n",
            "    Found existing installation: idna 2.10\n",
            "    Uninstalling idna-2.10:\n",
            "      Successfully uninstalled idna-2.10\n",
            "  Attempting uninstall: certifi\n",
            "    Found existing installation: certifi 2021.10.8\n",
            "    Uninstalling certifi-2021.10.8:\n",
            "      Successfully uninstalled certifi-2021.10.8\n",
            "  Attempting uninstall: torchvision\n",
            "    Found existing installation: torchvision 0.11.1+cu111\n",
            "    Uninstalling torchvision-0.11.1+cu111:\n",
            "      Successfully uninstalled torchvision-0.11.1+cu111\n",
            "  Attempting uninstall: tabulate\n",
            "    Found existing installation: tabulate 0.8.9\n",
            "    Uninstalling tabulate-0.8.9:\n",
            "      Successfully uninstalled tabulate-0.8.9\n",
            "  Attempting uninstall: scikit-learn\n",
            "    Found existing installation: scikit-learn 1.0.1\n",
            "    Uninstalling scikit-learn-1.0.1:\n",
            "      Successfully uninstalled scikit-learn-1.0.1\n",
            "  Attempting uninstall: scikit-image\n",
            "    Found existing installation: scikit-image 0.18.3\n",
            "    Uninstalling scikit-image-0.18.3:\n",
            "      Successfully uninstalled scikit-image-0.18.3\n",
            "  Attempting uninstall: requests\n",
            "    Found existing installation: requests 2.23.0\n",
            "    Uninstalling requests-2.23.0:\n",
            "      Successfully uninstalled requests-2.23.0\n",
            "  Attempting uninstall: QtPy\n",
            "    Found existing installation: QtPy 1.11.2\n",
            "    Uninstalling QtPy-1.11.2:\n",
            "      Successfully uninstalled QtPy-1.11.2\n",
            "  Attempting uninstall: qtconsole\n",
            "    Found existing installation: qtconsole 5.2.1\n",
            "    Uninstalling qtconsole-5.2.1:\n",
            "      Successfully uninstalled qtconsole-5.2.1\n",
            "  Attempting uninstall: PyYAML\n",
            "    Found existing installation: PyYAML 3.13\n",
            "    Uninstalling PyYAML-3.13:\n",
            "      Successfully uninstalled PyYAML-3.13\n",
            "  Attempting uninstall: pycocotools\n",
            "    Found existing installation: pycocotools 2.0.3\n",
            "    Uninstalling pycocotools-2.0.3:\n",
            "      Successfully uninstalled pycocotools-2.0.3\n",
            "  Attempting uninstall: psutil\n",
            "    Found existing installation: psutil 5.4.8\n",
            "    Uninstalling psutil-5.4.8:\n",
            "      Successfully uninstalled psutil-5.4.8\n",
            "  Attempting uninstall: prometheus-client\n",
            "    Found existing installation: prometheus-client 0.12.0\n",
            "    Uninstalling prometheus-client-0.12.0:\n",
            "      Successfully uninstalled prometheus-client-0.12.0\n",
            "  Attempting uninstall: pandas\n",
            "    Found existing installation: pandas 1.1.5\n",
            "    Uninstalling pandas-1.1.5:\n",
            "      Successfully uninstalled pandas-1.1.5\n",
            "  Attempting uninstall: nltk\n",
            "    Found existing installation: nltk 3.2.5\n",
            "    Uninstalling nltk-3.2.5:\n",
            "      Successfully uninstalled nltk-3.2.5\n",
            "  Attempting uninstall: jedi\n",
            "    Found existing installation: jedi 0.18.1\n",
            "    Uninstalling jedi-0.18.1:\n",
            "      Successfully uninstalled jedi-0.18.1\n",
            "  Attempting uninstall: ipywidgets\n",
            "    Found existing installation: ipywidgets 7.6.5\n",
            "    Uninstalling ipywidgets-7.6.5:\n",
            "      Successfully uninstalled ipywidgets-7.6.5\n",
            "  Attempting uninstall: imageio\n",
            "    Found existing installation: imageio 2.4.1\n",
            "    Uninstalling imageio-2.4.1:\n",
            "      Successfully uninstalled imageio-2.4.1\n",
            "  Attempting uninstall: h5py\n",
            "    Found existing installation: h5py 3.1.0\n",
            "    Uninstalling h5py-3.1.0:\n",
            "      Successfully uninstalled h5py-3.1.0\n",
            "  Attempting uninstall: editdistance\n",
            "    Found existing installation: editdistance 0.5.3\n",
            "    Uninstalling editdistance-0.5.3:\n",
            "      Successfully uninstalled editdistance-0.5.3\n",
            "  Attempting uninstall: Cython\n",
            "    Found existing installation: Cython 0.29.24\n",
            "    Uninstalling Cython-0.29.24:\n",
            "      Successfully uninstalled Cython-0.29.24\n",
            "  Attempting uninstall: backcall\n",
            "    Found existing installation: backcall 0.2.0\n",
            "    Uninstalling backcall-0.2.0:\n",
            "      Successfully uninstalled backcall-0.2.0\n",
            "\u001b[31mERROR: pip's dependency resolver does not currently take into account all the packages that are installed. This behaviour is the source of the following dependency conflicts.\n",
            "xarray 0.18.2 requires pandas>=1.0, but you have pandas 0.24.2 which is incompatible.\n",
            "torchtext 0.11.0 requires torch==1.10.0, but you have torch 1.0.1 which is incompatible.\n",
            "torchaudio 0.10.0+cu111 requires torch==1.10.0, but you have torch 1.0.1 which is incompatible.\n",
            "tensorflow 2.7.0 requires protobuf>=3.9.2, but you have protobuf 3.7.1 which is incompatible.\n",
            "tensorflow-metadata 1.4.0 requires protobuf<4,>=3.13, but you have protobuf 3.7.1 which is incompatible.\n",
            "tensorflow-hub 0.12.0 requires protobuf>=3.8.0, but you have protobuf 3.7.1 which is incompatible.\n",
            "plotnine 0.6.0 requires matplotlib>=3.1.1, but you have matplotlib 3.0.3 which is incompatible.\n",
            "plotnine 0.6.0 requires pandas>=0.25.0, but you have pandas 0.24.2 which is incompatible.\n",
            "nbclient 0.5.9 requires jupyter-client>=6.1.5, but you have jupyter-client 5.3.5 which is incompatible.\n",
            "nbclient 0.5.9 requires nbformat>=5.0, but you have nbformat 4.4.0 which is incompatible.\n",
            "mizani 0.6.0 requires matplotlib>=3.1.1, but you have matplotlib 3.0.3 which is incompatible.\n",
            "mizani 0.6.0 requires pandas>=0.25.0, but you have pandas 0.24.2 which is incompatible.\n",
            "imbalanced-learn 0.8.1 requires scikit-learn>=0.24, but you have scikit-learn 0.20.3 which is incompatible.\n",
            "googleapis-common-protos 1.53.0 requires protobuf>=3.12.0, but you have protobuf 3.7.1 which is incompatible.\n",
            "google-colab 1.0.0 requires pandas~=1.1.0; python_version >= \"3.0\", but you have pandas 0.24.2 which is incompatible.\n",
            "google-colab 1.0.0 requires requests~=2.23.0, but you have requests 2.21.0 which is incompatible.\n",
            "google-colab 1.0.0 requires six~=1.15.0, but you have six 1.12.0 which is incompatible.\n",
            "google-api-python-client 1.12.8 requires six<2dev,>=1.13.0, but you have six 1.12.0 which is incompatible.\n",
            "google-api-core 1.26.3 requires protobuf>=3.12.0, but you have protobuf 3.7.1 which is incompatible.\n",
            "google-api-core 1.26.3 requires six>=1.13.0, but you have six 1.12.0 which is incompatible.\n",
            "flask 1.1.4 requires Jinja2<3.0,>=2.10.1, but you have jinja2 2.10 which is incompatible.\n",
            "fbprophet 0.7.1 requires pandas>=1.0.4, but you have pandas 0.24.2 which is incompatible.\n",
            "datascience 0.10.6 requires folium==0.2.1, but you have folium 0.8.3 which is incompatible.\n",
            "albumentations 0.1.12 requires imgaug<0.2.7,>=0.2.5, but you have imgaug 0.2.9 which is incompatible.\u001b[0m\n",
            "Successfully installed Cython-0.29.11 Jinja2-2.10 MarkupSafe-1.1.1 PyWavelets-1.0.2 PyYAML-5.1 QtPy-1.7.0 Send2Trash-1.5.0 asn1crypto-0.24.0 astroid-2.2.5 attrs-19.1.0 backcall-0.1.0 bleach-3.1.0 certifi-2019.6.16 colorama-0.4.1 cryptography-2.6.1 cycler-0.10.0 cytoolz-0.9.0.1 dask-1.1.4 decorator-4.4.0 defusedxml-0.5.0 editdistance-0.4 h5py-2.9.0 idna-2.8 imageio-2.5.0 ipywidgets-7.4.2 isort-4.3.16 jedi-0.13.3 jsonschema-3.0.1 lazy-object-proxy-1.3.1 matplotlib-3.0.3 mccabe-0.6.1 mosestokenizer-1.0.0 nbconvert-5.4.1 nbformat-4.4.0 networkx-2.2 nltk-3.4.1 olefile-0.46 openfile-0.0.7 pandas-0.24.2 pandocfilters-1.4.2 parso-0.3.4 prometheus-client-0.6.0 protobuf-3.7.1 psutil-5.6.1 pyOpenSSL-19.0.0 pycocotools-2.0.0 pycparser-2.19 pylint-2.3.1 pyreadline-2.1 pyrsistent-0.14.11 qtconsole-4.4.3 requests-2.21.0 sacrebleu-1.3.1 scikit-image-0.14.2 scikit-learn-0.20.3 scipy-1.2.1 six-1.12.0 subword-nmt-0.3.5 tabulate-0.8.3 tensorboardx-1.1 terminado-0.8.1 testpath-0.4.2 toolwrapper-0.4.1 toolz-0.9.0 torch-1.0.1 torchvision-0.2.1 torchviz-0.0.1 traitlets-4.3.2 typed-ast-1.3.1 typing-3.7.4.3 wcwidth-0.1.7 widgetsnbextension-3.4.2 win-inet-pton-1.1.0 wincertstore-0.2 wrapt-1.11.1\n"
          ]
        },
        {
          "data": {
            "application/vnd.colab-display-data+json": {
              "pip_warning": {
                "packages": [
                  "cycler",
                  "decorator",
                  "google",
                  "ipywidgets",
                  "matplotlib",
                  "mpl_toolkits",
                  "pandas",
                  "psutil",
                  "six",
                  "traitlets",
                  "typing",
                  "wcwidth"
                ]
              }
            }
          },
          "metadata": {},
          "output_type": "display_data"
        }
      ],
      "source": [
        "!pip install -r reqs"
      ]
    },
    {
      "cell_type": "markdown",
      "metadata": {
        "id": "Fvs0JIrOuTra"
      },
      "source": [
        ""
      ]
    },
    {
      "cell_type": "code",
      "execution_count": null,
      "metadata": {
        "colab": {
          "base_uri": "https://localhost:8080/"
        },
        "id": "quA6I1SbubSo",
        "outputId": "4a48ef06-6efc-4f28-ca73-a6db217683fa"
      },
      "outputs": [
        {
          "name": "stdout",
          "output_type": "stream",
          "text": [
            "--2021-12-12 21:49:18--  http://images.cocodataset.org/zips/train2014.zip\n",
            "Resolving images.cocodataset.org (images.cocodataset.org)... 54.231.132.57\n",
            "Connecting to images.cocodataset.org (images.cocodataset.org)|54.231.132.57|:80... connected.\n",
            "HTTP request sent, awaiting response... 200 OK\n",
            "Length: 13510573713 (13G) [application/zip]\n",
            "Saving to: ‘./cocodataset/images/train2014.zip’\n",
            "\n",
            "train2014.zip       100%[===================>]  12.58G  48.5MB/s    in 4m 39s  \n",
            "\n",
            "2021-12-12 21:53:58 (46.1 MB/s) - ‘./cocodataset/images/train2014.zip’ saved [13510573713/13510573713]\n",
            "\n"
          ]
        }
      ],
      "source": [
        "!wget http://images.cocodataset.org/zips/train2014.zip -P ./cocodataset/images"
      ]
    },
    {
      "cell_type": "code",
      "execution_count": null,
      "metadata": {
        "colab": {
          "base_uri": "https://localhost:8080/"
        },
        "id": "ke4idHl8xKGR",
        "outputId": "d66b19a0-1541-4fc6-ea38-ffcbcd3b1c17"
      },
      "outputs": [
        {
          "name": "stdout",
          "output_type": "stream",
          "text": [
            "--2021-12-12 17:53:30--  http://images.cocodataset.org/zips/val2014.zip\n",
            "Resolving images.cocodataset.org (images.cocodataset.org)... 52.217.169.193\n",
            "Connecting to images.cocodataset.org (images.cocodataset.org)|52.217.169.193|:80... connected.\n",
            "HTTP request sent, awaiting response... 200 OK\n",
            "Length: 6645013297 (6.2G) [application/zip]\n",
            "Saving to: ‘./cocodataset/images/val2014.zip’\n",
            "\n",
            "val2014.zip         100%[===================>]   6.19G  28.4MB/s    in 3m 29s  \n",
            "\n",
            "2021-12-12 17:56:59 (30.4 MB/s) - ‘./cocodataset/images/val2014.zip’ saved [6645013297/6645013297]\n",
            "\n"
          ]
        }
      ],
      "source": [
        "!wget http://images.cocodataset.org/zips/val2014.zip -P ./cocodataset/images"
      ]
    },
    {
      "cell_type": "code",
      "execution_count": null,
      "metadata": {
        "colab": {
          "base_uri": "https://localhost:8080/",
          "height": 142
        },
        "id": "h6-FjvO61FWL",
        "outputId": "332cdf66-a8f5-4848-ef86-aacb187d544e"
      },
      "outputs": [
        {
          "output_type": "stream",
          "name": "stdout",
          "text": [
            "Requirement already satisfied: patool in /usr/local/lib/python3.7/dist-packages (1.12)\n",
            "patool: Extracting /content/drive/MyDrive/IntroToML/gan-image-captioning/ganimagecapcocodataset.rar ...\n",
            "patool: running /usr/bin/unrar x -- /content/drive/MyDrive/IntroToML/gan-image-captioning/ganimagecapcocodataset.rar\n",
            "patool:     with cwd='/content/drive/MyDrive/IntroToML/gan-image-captioning'\n",
            "patool: ... /content/drive/MyDrive/IntroToML/gan-image-captioning/ganimagecapcocodataset.rar extracted to `/content/drive/MyDrive/IntroToML/gan-image-captioning'.\n"
          ]
        },
        {
          "output_type": "execute_result",
          "data": {
            "application/vnd.google.colaboratory.intrinsic+json": {
              "type": "string"
            },
            "text/plain": [
              "'/content/drive/MyDrive/IntroToML/gan-image-captioning'"
            ]
          },
          "metadata": {},
          "execution_count": 6
        }
      ],
      "source": [
        "!pip install patool\n",
        "import patoolib\n",
        "patoolib.extract_archive(\"/content/drive/MyDrive/IntroToML/gan-image-captioning/ganimagecapcocodataset.rar\", outdir=\"/content/drive/MyDrive/IntroToML/gan-image-captioning\")\n",
        "\n"
      ]
    },
    {
      "cell_type": "code",
      "execution_count": null,
      "metadata": {
        "id": "rk-r1MY4zMRj"
      },
      "outputs": [],
      "source": [
        "import os\n",
        "os.environ[\"CUDA_VISIBLE_DEVICES\"] = '0'"
      ]
    },
    {
      "cell_type": "code",
      "execution_count": 4,
      "metadata": {
        "colab": {
          "base_uri": "https://localhost:8080/"
        },
        "id": "ZrR_k6FYpeS8",
        "outputId": "b10758df-2636-41d3-887f-edc0b2962dd1"
      },
      "outputs": [
        {
          "output_type": "stream",
          "name": "stdout",
          "text": [
            "Requirement already satisfied: torchvision in /usr/local/lib/python3.7/dist-packages (0.11.1+cu111)\n",
            "Requirement already satisfied: pillow!=8.3.0,>=5.3.0 in /usr/local/lib/python3.7/dist-packages (from torchvision) (7.1.2)\n",
            "Requirement already satisfied: numpy in /usr/local/lib/python3.7/dist-packages (from torchvision) (1.19.5)\n",
            "Requirement already satisfied: torch==1.10.0 in /usr/local/lib/python3.7/dist-packages (from torchvision) (1.10.0+cu111)\n",
            "Requirement already satisfied: typing-extensions in /usr/local/lib/python3.7/dist-packages (from torch==1.10.0->torchvision) (3.10.0.2)\n"
          ]
        }
      ],
      "source": [
        "!pip install torchvision"
      ]
    },
    {
      "cell_type": "code",
      "execution_count": null,
      "metadata": {
        "colab": {
          "base_uri": "https://localhost:8080/"
        },
        "id": "08BjJiZlxW7o",
        "outputId": "885fbdb8-95b4-435f-8db2-c782d2b7e36e"
      },
      "outputs": [
        {
          "name": "stdout",
          "output_type": "stream",
          "text": [
            "Formatting train set\n",
            "loading annotations into memory...\n",
            "Done (t=0.83s)\n",
            "creating index...\n",
            "index created!\n",
            "1/414113\n",
            "IMAGE_FILE:  cocodataset/images/COCO_{0:}_2014_{0:}.jpg\n",
            "image_id:  318556\n",
            "IMAGE_FILE.format(image_id):  cocodataset/images/COCO_318556_2014_318556.jpg\n",
            "Traceback (most recent call last):\n",
            "  File \"prepare_coco.py\", line 177, in <module>\n",
            "    run()\n",
            "  File \"prepare_coco.py\", line 172, in run\n",
            "    format_set(\"train\", TRAIN_FILE, image_factory)\n",
            "  File \"prepare_coco.py\", line 115, in format_set\n",
            "    feats = extract_features(image_id, set_name, image_factory)\n",
            "  File \"prepare_coco.py\", line 84, in extract_features\n",
            "    img = PIL_Image.open(IMAGE_FILE.format(set_name, '0'*(12-len(str(image_id)))+str(image_id)))\n",
            "  File \"/usr/local/lib/python3.7/dist-packages/PIL/Image.py\", line 2843, in open\n",
            "    fp = builtins.open(filename, \"rb\")\n",
            "FileNotFoundError: [Errno 2] No such file or directory: 'cocodataset/images/COCO_train_2014_train.jpg'\n"
          ]
        }
      ],
      "source": [
        "!python prepare_coco.py"
      ]
    },
    {
      "cell_type": "code",
      "execution_count": 5,
      "metadata": {
        "colab": {
          "base_uri": "https://localhost:8080/"
        },
        "id": "MffB7ism8xkf",
        "outputId": "027be5f2-df5b-49b3-a55c-45a18283dfcc"
      },
      "outputs": [
        {
          "output_type": "stream",
          "name": "stdout",
          "text": [
            "Collecting torchviz\n",
            "  Downloading torchviz-0.0.2.tar.gz (4.9 kB)\n",
            "Requirement already satisfied: torch in /usr/local/lib/python3.7/dist-packages (from torchviz) (1.10.0+cu111)\n",
            "Requirement already satisfied: graphviz in /usr/local/lib/python3.7/dist-packages (from torchviz) (0.10.1)\n",
            "Requirement already satisfied: typing-extensions in /usr/local/lib/python3.7/dist-packages (from torch->torchviz) (3.10.0.2)\n",
            "Building wheels for collected packages: torchviz\n",
            "  Building wheel for torchviz (setup.py) ... \u001b[?25l\u001b[?25hdone\n",
            "  Created wheel for torchviz: filename=torchviz-0.0.2-py3-none-any.whl size=4151 sha256=1cb1fa6bce6e3ca5cf0908e98e9e2512accfa798a658eaabbf4a16f3ebf88de6\n",
            "  Stored in directory: /root/.cache/pip/wheels/04/38/f5/dc4f85c3909051823df49901e72015d2d750bd26b086480ec2\n",
            "Successfully built torchviz\n",
            "Installing collected packages: torchviz\n",
            "Successfully installed torchviz-0.0.2\n"
          ]
        }
      ],
      "source": [
        "!pip install torchviz"
      ]
    },
    {
      "cell_type": "code",
      "execution_count": 6,
      "metadata": {
        "colab": {
          "base_uri": "https://localhost:8080/"
        },
        "id": "3tTGsJUU8dAG",
        "outputId": "e18beb55-87a1-48d8-ff26-ece2c6010110"
      },
      "outputs": [
        {
          "output_type": "stream",
          "name": "stdout",
          "text": [
            "tcmalloc: large alloc 3392413696 bytes == 0x564a96aa2000 @  0x7f8e328f81e7 0x7f8d3179446e 0x7f8d317e8e7c 0x7f8d317e9aaf 0x7f8d3188b470 0x564a8f519544 0x564a8f519240 0x564a8f58d627 0x564a8f5879ee 0x564a8f51abda 0x564a8f589737 0x564a8f5879ee 0x564a8f51abda 0x564a8f58cd00 0x564a8f5879ee 0x564a8f51b48c 0x564a8f55c159 0x564a8f5590a4 0x564a8f519d49 0x564a8f58d94f 0x564a8f587ced 0x564a8f51b271 0x564a8f55c159 0x564a8f5590a4 0x564a8f519c52 0x564a8f58cc25 0x564a8f51aafa 0x564a8f588915 0x564a8f5879ee 0x564a8f5876f3 0x564a8f6514c2\n",
            "Starting Epoch 1\n",
            "Training : Mean G loss : -0.18782219753225843 / Mean D loss : 1.5164733185110806 (389.3140869140625 seconds elapsed)\n",
            "Beam search...\n",
            "[0.25, 0.25, 0.25, 0.25]\n",
            "BLEU-4 score : 0.0007508835441555132\n",
            "Best BLEU so far : 0.0007508835441555132 (Epoch 1)\n",
            "Epoch finished in 413.3313648700714 seconds\n",
            "Starting Epoch 2\n",
            "Training : Mean G loss : -0.011095261867114596 / Mean D loss : -0.9183420653098098 (389.08632493019104 seconds elapsed)\n",
            "Beam search...\n",
            "[0.25, 0.25, 0.25, 0.25]\n",
            "/usr/local/lib/python3.7/dist-packages/nltk/translate/bleu_score.py:490: UserWarning: \n",
            "Corpus/Sentence contains 0 counts of 4-gram overlaps.\n",
            "BLEU scores might be undesirable; use SmoothingFunction().\n",
            "  warnings.warn(_msg)\n",
            "BLEU-4 score : 0.05595222467273631\n",
            "Best BLEU so far : 0.05595222467273631 (Epoch 2)\n",
            "Epoch finished in 410.3093960285187 seconds\n",
            "Starting Epoch 3\n",
            "Training : Mean G loss : -0.022764130994537737 / Mean D loss : 729.6687472017012 (387.57556653022766 seconds elapsed)\n",
            "Beam search...\n",
            "[0.25, 0.25, 0.25, 0.25]\n",
            "/usr/local/lib/python3.7/dist-packages/nltk/translate/bleu_score.py:490: UserWarning: \n",
            "Corpus/Sentence contains 0 counts of 2-gram overlaps.\n",
            "BLEU scores might be undesirable; use SmoothingFunction().\n",
            "  warnings.warn(_msg)\n",
            "BLEU-4 score : 0.2712596389236381\n",
            "Best BLEU so far : 0.2712596389236381 (Epoch 3)\n",
            "Epoch finished in 403.2820131778717 seconds\n",
            "Starting Epoch 4\n",
            "Training : Mean G loss : -0.004155654692410374 / Mean D loss : -0.9692584387609892 (389.11016845703125 seconds elapsed)\n",
            "Beam search...\n",
            "[0.25, 0.25, 0.25, 0.25]\n",
            "/usr/local/lib/python3.7/dist-packages/nltk/translate/bleu_score.py:490: UserWarning: \n",
            "Corpus/Sentence contains 0 counts of 3-gram overlaps.\n",
            "BLEU scores might be undesirable; use SmoothingFunction().\n",
            "  warnings.warn(_msg)\n",
            "BLEU-4 score : 0.005245545317036171\n",
            "Best BLEU so far : 0.2712596389236381 (Epoch 3)\n",
            "Epoch finished in 404.5166451931 seconds\n",
            "Starting Epoch 5\n",
            "Training : Mean G loss : -0.0029761081227534136 / Mean D loss : -0.9618324581707749 (388.35164880752563 seconds elapsed)\n",
            "Beam search...\n",
            "[0.25, 0.25, 0.25, 0.25]\n",
            "BLEU-4 score : 0.14174409018264156\n",
            "Best BLEU so far : 0.2712596389236381 (Epoch 3)\n",
            "Epoch finished in 404.01382088661194 seconds\n",
            "Starting Epoch 6\n",
            "Training : Mean G loss : -0.008343176992039954 / Mean D loss : -0.9326914367831756 (388.7647123336792 seconds elapsed)\n",
            "Beam search...\n",
            "[0.25, 0.25, 0.25, 0.25]\n",
            "BLEU-4 score : 0.16380755878755887\n",
            "Best BLEU so far : 0.2712596389236381 (Epoch 3)\n",
            "Epoch finished in 406.6201584339142 seconds\n",
            "Scores saved in output/results/scores.json\n"
          ]
        }
      ],
      "source": [
        "!python main.py config.json"
      ]
    },
    {
      "cell_type": "code",
      "source": [
        "!python test.py config.json"
      ],
      "metadata": {
        "colab": {
          "base_uri": "https://localhost:8080/"
        },
        "id": "3CmJkPz76Dqo",
        "outputId": "36c7574c-16ee-4511-ff75-800ee58e997e"
      },
      "execution_count": 8,
      "outputs": [
        {
          "output_type": "stream",
          "name": "stdout",
          "text": [
            "False\n",
            "The state dict keys: \n",
            "\n",
            " odict_keys(['emb_G.weight', 'emb_D.weight', 'G.emb.weight', 'G.dec0.x2h.weight', 'G.dec0.x2h.bias', 'G.dec0.h2h.weight', 'G.dec0.h2h.bias', 'G.dec1.x2h.weight', 'G.dec1.x2h.bias', 'G.dec1.h2h.weight', 'G.dec1.h2h.bias', 'G.att.weight', 'G.att.bias', 'G.hid2out.weight', 'G.hid2out.bias', 'G.out2prob.weight', 'G.out2prob.bias', 'D.emb.weight', 'D.dec0.x2h.weight', 'D.dec0.x2h.bias', 'D.dec0.h2h.weight', 'D.dec0.h2h.bias', 'D.dec1.x2h.weight', 'D.dec1.x2h.bias', 'D.dec1.h2h.weight', 'D.dec1.h2h.bias', 'D.att.weight', 'D.att.bias', 'D.out2prob_classif.weight', 'D.out2prob_classif.bias'])\n",
            "[0.25, 0.25, 0.25, 0.25]\n",
            "/usr/local/lib/python3.7/dist-packages/nltk/translate/bleu_score.py:490: UserWarning: \n",
            "Corpus/Sentence contains 0 counts of 2-gram overlaps.\n",
            "BLEU scores might be undesirable; use SmoothingFunction().\n",
            "  warnings.warn(_msg)\n",
            "0.2712596389236381\n",
            "Traceback (most recent call last):\n",
            "  File \"test.py\", line 92, in <module>\n",
            "    run(args)\n",
            "  File \"test.py\", line 81, in run\n",
            "    generated_sentences = beam_search([model], beam_iterator, vocab, beam_size=config['beam_search']['beam_size'], max_len=config['beam_search']['max_len'], device=device)\n",
            "  File \"/content/drive/.shortcut-targets-by-id/11T4-AnRH3gQUdHY4MHkO3O5Gm6ZZa5rm/IntroToML/gan-image-captioning/metrics/search.py\", line 65, in beam_search\n",
            "    ctx_dicts = [tile_ctx_dict(cd, tile) for cd in ctx_dicts]\n",
            "  File \"/content/drive/.shortcut-targets-by-id/11T4-AnRH3gQUdHY4MHkO3O5Gm6ZZa5rm/IntroToML/gan-image-captioning/metrics/search.py\", line 65, in <listcomp>\n",
            "    ctx_dicts = [tile_ctx_dict(cd, tile) for cd in ctx_dicts]\n",
            "  File \"/content/drive/.shortcut-targets-by-id/11T4-AnRH3gQUdHY4MHkO3O5Gm6ZZa5rm/IntroToML/gan-image-captioning/metrics/search.py\", line 308, in tile_ctx_dict\n",
            "    for k, (t, mask) in ctx_dict.items()\n",
            "  File \"/content/drive/.shortcut-targets-by-id/11T4-AnRH3gQUdHY4MHkO3O5Gm6ZZa5rm/IntroToML/gan-image-captioning/metrics/search.py\", line 308, in <dictcomp>\n",
            "    for k, (t, mask) in ctx_dict.items()\n",
            "IndexError: tensors used as indices must be long, byte or bool tensors\n"
          ]
        }
      ]
    },
    {
      "cell_type": "code",
      "source": [
        "!python evaluator.py cocodataset/captions/beam.en output_argmax cocodataset/links/beam.txt cocodatset/images"
      ],
      "metadata": {
        "colab": {
          "base_uri": "https://localhost:8080/"
        },
        "id": "aQw_BrpcDUoH",
        "outputId": "bdbd0b55-19b2-4184-8454-0f4f682dbb4e"
      },
      "execution_count": 8,
      "outputs": [
        {
          "output_type": "stream",
          "name": "stdout",
          "text": [
            "[nltk_data] Downloading package wordnet to /root/nltk_data...\n",
            "[nltk_data]   Unzipping corpora/wordnet.zip.\n",
            "Traceback (most recent call last):\n",
            "  File \"evaluator.py\", line 127, in <module>\n",
            "    run(args)\n",
            "  File \"evaluator.py\", line 91, in run\n",
            "    hypothesis = exh.read_file(args.HYPOTHESIS)\n",
            "  File \"/content/drive/.shortcut-targets-by-id/11T4-AnRH3gQUdHY4MHkO3O5Gm6ZZa5rm/IntroToML/gan-image-captioning/utils/explorer_helper.py\", line 61, in read_file\n",
            "    f = open(filename)\n",
            "FileNotFoundError: [Errno 2] No such file or directory: 'output_argmax'\n"
          ]
        }
      ]
    },
    {
      "cell_type": "code",
      "execution_count": null,
      "metadata": {
        "colab": {
          "base_uri": "https://localhost:8080/",
          "height": 895
        },
        "id": "Zz995xPkzeaq",
        "outputId": "2760de0b-10b0-410e-d731-6cfb5e30eebb"
      },
      "outputs": [
        {
          "name": "stderr",
          "output_type": "stream",
          "text": [
            "ERROR:root:Internal Python error in the inspect module.\n",
            "Below is the traceback from this internal error.\n",
            "\n"
          ]
        },
        {
          "name": "stdout",
          "output_type": "stream",
          "text": [
            "Traceback (most recent call last):\n",
            "  File \"/usr/local/lib/python3.7/dist-packages/IPython/core/interactiveshell.py\", line 2882, in run_code\n",
            "    exec(code_obj, self.user_global_ns, self.user_ns)\n",
            "  File \"<ipython-input-9-7e7fc67cc157>\", line 1, in <module>\n",
            "    drive.flush_and_unmount()\n",
            "  File \"/usr/local/lib/python3.7/dist-packages/google/colab/drive.py\", line 92, in flush_and_unmount\n",
            "    out, err = p.communicate()\n",
            "  File \"/usr/lib/python3.7/subprocess.py\", line 964, in communicate\n",
            "    stdout, stderr = self._communicate(input, endtime, timeout)\n",
            "  File \"/usr/lib/python3.7/subprocess.py\", line 1715, in _communicate\n",
            "    ready = selector.select(timeout)\n",
            "  File \"/usr/lib/python3.7/selectors.py\", line 415, in select\n",
            "    fd_event_list = self._selector.poll(timeout)\n",
            "KeyboardInterrupt\n",
            "\n",
            "During handling of the above exception, another exception occurred:\n",
            "\n",
            "Traceback (most recent call last):\n",
            "  File \"/usr/local/lib/python3.7/dist-packages/IPython/core/interactiveshell.py\", line 1823, in showtraceback\n",
            "    stb = value._render_traceback_()\n",
            "AttributeError: 'KeyboardInterrupt' object has no attribute '_render_traceback_'\n",
            "\n",
            "During handling of the above exception, another exception occurred:\n",
            "\n",
            "Traceback (most recent call last):\n",
            "  File \"/usr/local/lib/python3.7/dist-packages/IPython/core/ultratb.py\", line 1132, in get_records\n",
            "    return _fixed_getinnerframes(etb, number_of_lines_of_context, tb_offset)\n",
            "  File \"/usr/local/lib/python3.7/dist-packages/IPython/core/ultratb.py\", line 313, in wrapped\n",
            "    return f(*args, **kwargs)\n",
            "  File \"/usr/local/lib/python3.7/dist-packages/IPython/core/ultratb.py\", line 358, in _fixed_getinnerframes\n",
            "    records = fix_frame_records_filenames(inspect.getinnerframes(etb, context))\n",
            "  File \"/usr/lib/python3.7/inspect.py\", line 1502, in getinnerframes\n",
            "    frameinfo = (tb.tb_frame,) + getframeinfo(tb, context)\n",
            "  File \"/usr/lib/python3.7/inspect.py\", line 1460, in getframeinfo\n",
            "    filename = getsourcefile(frame) or getfile(frame)\n",
            "  File \"/usr/lib/python3.7/inspect.py\", line 696, in getsourcefile\n",
            "    if getattr(getmodule(object, filename), '__loader__', None) is not None:\n",
            "  File \"/usr/lib/python3.7/inspect.py\", line 725, in getmodule\n",
            "    file = getabsfile(object, _filename)\n",
            "  File \"/usr/lib/python3.7/inspect.py\", line 709, in getabsfile\n",
            "    return os.path.normcase(os.path.abspath(_filename))\n",
            "  File \"/usr/lib/python3.7/posixpath.py\", line 383, in abspath\n",
            "    cwd = os.getcwd()\n",
            "FileNotFoundError: [Errno 2] No such file or directory\n"
          ]
        },
        {
          "ename": "KeyboardInterrupt",
          "evalue": "ignored",
          "output_type": "error",
          "traceback": [
            "\u001b[0;31m---------------------------------------------------------------------------\u001b[0m"
          ]
        }
      ],
      "source": [
        "drive.flush_and_unmount()"
      ]
    },
    {
      "cell_type": "markdown",
      "metadata": {
        "id": "HeHI1VbnwiiT"
      },
      "source": [
        ""
      ]
    }
  ],
  "metadata": {
    "accelerator": "GPU",
    "colab": {
      "collapsed_sections": [],
      "name": "ML Project Simple Image Captioning GAN.ipynb",
      "provenance": [],
      "include_colab_link": true
    },
    "kernelspec": {
      "display_name": "Python 3",
      "name": "python3"
    },
    "language_info": {
      "name": "python"
    }
  },
  "nbformat": 4,
  "nbformat_minor": 0
}