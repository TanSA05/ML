{
  "nbformat": 4,
  "nbformat_minor": 0,
  "metadata": {
    "colab": {
      "name": "RankGAN.ipynb",
      "provenance": [],
      "collapsed_sections": [],
      "authorship_tag": "ABX9TyPMj/J9umY51SI5On/N4D8H",
      "include_colab_link": true
    },
    "kernelspec": {
      "name": "python3",
      "display_name": "Python 3"
    },
    "language_info": {
      "name": "python"
    },
    "accelerator": "GPU"
  },
  "cells": [
    {
      "cell_type": "markdown",
      "metadata": {
        "id": "view-in-github",
        "colab_type": "text"
      },
      "source": [
        "<a href=\"https://colab.research.google.com/github/TanSA05/ML/blob/main/RankGAN.ipynb\" target=\"_parent\"><img src=\"https://colab.research.google.com/assets/colab-badge.svg\" alt=\"Open In Colab\"/></a>"
      ]
    },
    {
      "cell_type": "code",
      "execution_count": 1,
      "metadata": {
        "colab": {
          "base_uri": "https://localhost:8080/"
        },
        "id": "c-re2HeUxzdz",
        "outputId": "e13ba5a4-7dbb-44f1-cd39-29d964bebc49"
      },
      "outputs": [
        {
          "output_type": "stream",
          "name": "stdout",
          "text": [
            "Mounted at /content/drive\n"
          ]
        }
      ],
      "source": [
        "from google.colab import drive\n",
        "drive.mount('/content/drive')"
      ]
    },
    {
      "cell_type": "code",
      "source": [
        "%cd drive/MyDrive/IntroToML/"
      ],
      "metadata": {
        "colab": {
          "base_uri": "https://localhost:8080/"
        },
        "id": "6u_ahb00ypfU",
        "outputId": "ecfd179d-d401-4253-f74e-3cf3a4aa9fa6"
      },
      "execution_count": 2,
      "outputs": [
        {
          "output_type": "stream",
          "name": "stdout",
          "text": [
            "/content/drive/.shortcut-targets-by-id/11T4-AnRH3gQUdHY4MHkO3O5Gm6ZZa5rm/IntroToML\n"
          ]
        }
      ]
    },
    {
      "cell_type": "code",
      "source": [
        "pwd"
      ],
      "metadata": {
        "colab": {
          "base_uri": "https://localhost:8080/",
          "height": 35
        },
        "id": "y7-7ArdMy4qh",
        "outputId": "53f5cad1-ae4b-49cf-a0e7-b6ffcc27118c"
      },
      "execution_count": 3,
      "outputs": [
        {
          "output_type": "execute_result",
          "data": {
            "application/vnd.google.colaboratory.intrinsic+json": {
              "type": "string"
            },
            "text/plain": [
              "'/content/drive/.shortcut-targets-by-id/11T4-AnRH3gQUdHY4MHkO3O5Gm6ZZa5rm/IntroToML'"
            ]
          },
          "metadata": {},
          "execution_count": 3
        }
      ]
    },
    {
      "cell_type": "code",
      "source": [
        "!git clone https://github.com/desire2020/RankGAN.git"
      ],
      "metadata": {
        "colab": {
          "base_uri": "https://localhost:8080/"
        },
        "id": "yio-8sBQy5SC",
        "outputId": "c5ec465e-fc9e-42d4-cecd-6b6b7a4d2ca7"
      },
      "execution_count": 4,
      "outputs": [
        {
          "output_type": "stream",
          "name": "stdout",
          "text": [
            "Cloning into 'RankGAN'...\n",
            "remote: Enumerating objects: 359, done.\u001b[K\n",
            "remote: Total 359 (delta 0), reused 0 (delta 0), pack-reused 359\u001b[K\n",
            "Receiving objects: 100% (359/359), 26.50 MiB | 9.96 MiB/s, done.\n",
            "Resolving deltas: 100% (189/189), done.\n"
          ]
        }
      ]
    },
    {
      "cell_type": "code",
      "source": [
        "%cd RankGAN/"
      ],
      "metadata": {
        "colab": {
          "base_uri": "https://localhost:8080/"
        },
        "id": "dUEaNOczy79W",
        "outputId": "0cee0bfe-f6bf-4fc8-bfd8-8cd1d1d3fa44"
      },
      "execution_count": 4,
      "outputs": [
        {
          "output_type": "stream",
          "name": "stdout",
          "text": [
            "/content/drive/.shortcut-targets-by-id/11T4-AnRH3gQUdHY4MHkO3O5Gm6ZZa5rm/IntroToML/RankGAN\n"
          ]
        }
      ]
    },
    {
      "cell_type": "code",
      "source": [
        "%tensorflow_version 1.x"
      ],
      "metadata": {
        "id": "eGN4SAhpzbPw"
      },
      "execution_count": 10,
      "outputs": []
    },
    {
      "cell_type": "code",
      "source": [
        "!python sequence_gan.py"
      ],
      "metadata": {
        "colab": {
          "base_uri": "https://localhost:8080/"
        },
        "id": "9s4DowNbzAkK",
        "outputId": "b805abd7-71a9-4589-c3be-33b53e258c5d"
      },
      "execution_count": 13,
      "outputs": [
        {
          "output_type": "stream",
          "name": "stdout",
          "text": [
            "WARNING:tensorflow:From /content/drive/.shortcut-targets-by-id/11T4-AnRH3gQUdHY4MHkO3O5Gm6ZZa5rm/IntroToML/RankGAN/generator.py:25: The name tf.set_random_seed is deprecated. Please use tf.compat.v1.set_random_seed instead.\n",
            "\n",
            "WARNING:tensorflow:From /content/drive/.shortcut-targets-by-id/11T4-AnRH3gQUdHY4MHkO3O5Gm6ZZa5rm/IntroToML/RankGAN/generator.py:27: The name tf.variable_scope is deprecated. Please use tf.compat.v1.variable_scope instead.\n",
            "\n",
            "WARNING:tensorflow:From /content/drive/.shortcut-targets-by-id/11T4-AnRH3gQUdHY4MHkO3O5Gm6ZZa5rm/IntroToML/RankGAN/generator.py:132: The name tf.random_normal is deprecated. Please use tf.random.normal instead.\n",
            "\n",
            "WARNING:tensorflow:From /content/drive/.shortcut-targets-by-id/11T4-AnRH3gQUdHY4MHkO3O5Gm6ZZa5rm/IntroToML/RankGAN/generator.py:34: The name tf.placeholder is deprecated. Please use tf.compat.v1.placeholder instead.\n",
            "\n",
            "WARNING:tensorflow:From /content/drive/.shortcut-targets-by-id/11T4-AnRH3gQUdHY4MHkO3O5Gm6ZZa5rm/IntroToML/RankGAN/generator.py:53: The name tf.log is deprecated. Please use tf.math.log instead.\n",
            "\n",
            "WARNING:tensorflow:From /content/drive/.shortcut-targets-by-id/11T4-AnRH3gQUdHY4MHkO3O5Gm6ZZa5rm/IntroToML/RankGAN/generator.py:54: multinomial (from tensorflow.python.ops.random_ops) is deprecated and will be removed in a future version.\n",
            "Instructions for updating:\n",
            "Use `tf.random.categorical` instead.\n",
            "WARNING:tensorflow:From /content/drive/.shortcut-targets-by-id/11T4-AnRH3gQUdHY4MHkO3O5Gm6ZZa5rm/IntroToML/RankGAN/generator.py:97: to_int32 (from tensorflow.python.ops.math_ops) is deprecated and will be removed in a future version.\n",
            "Instructions for updating:\n",
            "Use `tf.cast` instead.\n",
            "WARNING:tensorflow:From /content/drive/.shortcut-targets-by-id/11T4-AnRH3gQUdHY4MHkO3O5Gm6ZZa5rm/IntroToML/RankGAN/generator.py:212: The name tf.train.AdamOptimizer is deprecated. Please use tf.compat.v1.train.AdamOptimizer instead.\n",
            "\n",
            "WARNING:tensorflow:From /tensorflow-1.15.2/python3.7/tensorflow_core/python/ops/math_grad.py:1424: where (from tensorflow.python.ops.array_ops) is deprecated and will be removed in a future version.\n",
            "Instructions for updating:\n",
            "Use tf.where in 2.0, which has the same broadcast rule as np.where\n",
            "WARNING:tensorflow:From /content/drive/.shortcut-targets-by-id/11T4-AnRH3gQUdHY4MHkO3O5Gm6ZZa5rm/IntroToML/RankGAN/discriminator.py:97: The name tf.random_uniform is deprecated. Please use tf.random.uniform instead.\n",
            "\n",
            "WARNING:tensorflow:From /content/drive/.shortcut-targets-by-id/11T4-AnRH3gQUdHY4MHkO3O5Gm6ZZa5rm/IntroToML/RankGAN/discriminator.py:111: The name tf.truncated_normal is deprecated. Please use tf.random.truncated_normal instead.\n",
            "\n",
            "WARNING:tensorflow:From /content/drive/.shortcut-targets-by-id/11T4-AnRH3gQUdHY4MHkO3O5Gm6ZZa5rm/IntroToML/RankGAN/discriminator.py:130: The name tf.nn.max_pool is deprecated. Please use tf.nn.max_pool2d instead.\n",
            "\n",
            "WARNING:tensorflow:From /content/drive/.shortcut-targets-by-id/11T4-AnRH3gQUdHY4MHkO3O5Gm6ZZa5rm/IntroToML/RankGAN/discriminator.py:44: The name tf.AUTO_REUSE is deprecated. Please use tf.compat.v1.AUTO_REUSE instead.\n",
            "\n",
            "WARNING:tensorflow:From /content/drive/.shortcut-targets-by-id/11T4-AnRH3gQUdHY4MHkO3O5Gm6ZZa5rm/IntroToML/RankGAN/discriminator.py:31: The name tf.get_variable is deprecated. Please use tf.compat.v1.get_variable instead.\n",
            "\n",
            "WARNING:tensorflow:From /content/drive/.shortcut-targets-by-id/11T4-AnRH3gQUdHY4MHkO3O5Gm6ZZa5rm/IntroToML/RankGAN/discriminator.py:161: calling dropout (from tensorflow.python.ops.nn_ops) with keep_prob is deprecated and will be removed in a future version.\n",
            "Instructions for updating:\n",
            "Please use `rate` instead of `keep_prob`. Rate should be set to `rate = 1 - keep_prob`.\n",
            "WARNING:tensorflow:From /content/drive/.shortcut-targets-by-id/11T4-AnRH3gQUdHY4MHkO3O5Gm6ZZa5rm/IntroToML/RankGAN/discriminator.py:204: The name tf.trainable_variables is deprecated. Please use tf.compat.v1.trainable_variables instead.\n",
            "\n",
            "WARNING:tensorflow:From sequence_gan.py:109: The name tf.ConfigProto is deprecated. Please use tf.compat.v1.ConfigProto instead.\n",
            "\n",
            "WARNING:tensorflow:From sequence_gan.py:111: The name tf.Session is deprecated. Please use tf.compat.v1.Session instead.\n",
            "\n",
            "2021-12-14 22:33:33.737161: I tensorflow/core/platform/profile_utils/cpu_utils.cc:94] CPU Frequency: 2300000000 Hz\n",
            "2021-12-14 22:33:33.737408: I tensorflow/compiler/xla/service/service.cc:168] XLA service 0x556388b10a00 initialized for platform Host (this does not guarantee that XLA will be used). Devices:\n",
            "2021-12-14 22:33:33.737443: I tensorflow/compiler/xla/service/service.cc:176]   StreamExecutor device (0): Host, Default Version\n",
            "2021-12-14 22:33:33.739181: I tensorflow/stream_executor/platform/default/dso_loader.cc:44] Successfully opened dynamic library libcuda.so.1\n",
            "2021-12-14 22:33:33.856839: I tensorflow/stream_executor/cuda/cuda_gpu_executor.cc:983] successful NUMA node read from SysFS had negative value (-1), but there must be at least one NUMA node, so returning NUMA node zero\n",
            "2021-12-14 22:33:33.857731: I tensorflow/compiler/xla/service/service.cc:168] XLA service 0x556388b10f40 initialized for platform CUDA (this does not guarantee that XLA will be used). Devices:\n",
            "2021-12-14 22:33:33.857774: I tensorflow/compiler/xla/service/service.cc:176]   StreamExecutor device (0): Tesla K80, Compute Capability 3.7\n",
            "2021-12-14 22:33:33.857937: I tensorflow/stream_executor/cuda/cuda_gpu_executor.cc:983] successful NUMA node read from SysFS had negative value (-1), but there must be at least one NUMA node, so returning NUMA node zero\n",
            "2021-12-14 22:33:33.858627: I tensorflow/core/common_runtime/gpu/gpu_device.cc:1639] Found device 0 with properties: \n",
            "name: Tesla K80 major: 3 minor: 7 memoryClockRate(GHz): 0.8235\n",
            "pciBusID: 0000:00:04.0\n",
            "2021-12-14 22:33:33.858971: I tensorflow/stream_executor/platform/default/dso_loader.cc:44] Successfully opened dynamic library libcudart.so.10.1\n",
            "2021-12-14 22:33:33.861186: I tensorflow/stream_executor/platform/default/dso_loader.cc:44] Successfully opened dynamic library libcublas.so.10\n",
            "2021-12-14 22:33:33.862305: I tensorflow/stream_executor/platform/default/dso_loader.cc:44] Successfully opened dynamic library libcufft.so.10\n",
            "2021-12-14 22:33:33.862646: I tensorflow/stream_executor/platform/default/dso_loader.cc:44] Successfully opened dynamic library libcurand.so.10\n",
            "2021-12-14 22:33:33.864809: I tensorflow/stream_executor/platform/default/dso_loader.cc:44] Successfully opened dynamic library libcusolver.so.10\n",
            "2021-12-14 22:33:33.865785: I tensorflow/stream_executor/platform/default/dso_loader.cc:44] Successfully opened dynamic library libcusparse.so.10\n",
            "2021-12-14 22:33:33.869839: I tensorflow/stream_executor/platform/default/dso_loader.cc:44] Successfully opened dynamic library libcudnn.so.7\n",
            "2021-12-14 22:33:33.869965: I tensorflow/stream_executor/cuda/cuda_gpu_executor.cc:983] successful NUMA node read from SysFS had negative value (-1), but there must be at least one NUMA node, so returning NUMA node zero\n",
            "2021-12-14 22:33:33.870769: I tensorflow/stream_executor/cuda/cuda_gpu_executor.cc:983] successful NUMA node read from SysFS had negative value (-1), but there must be at least one NUMA node, so returning NUMA node zero\n",
            "2021-12-14 22:33:33.871531: I tensorflow/core/common_runtime/gpu/gpu_device.cc:1767] Adding visible gpu devices: 0\n",
            "2021-12-14 22:33:33.871596: I tensorflow/stream_executor/platform/default/dso_loader.cc:44] Successfully opened dynamic library libcudart.so.10.1\n",
            "2021-12-14 22:33:33.872933: I tensorflow/core/common_runtime/gpu/gpu_device.cc:1180] Device interconnect StreamExecutor with strength 1 edge matrix:\n",
            "2021-12-14 22:33:33.872982: I tensorflow/core/common_runtime/gpu/gpu_device.cc:1186]      0 \n",
            "2021-12-14 22:33:33.873001: I tensorflow/core/common_runtime/gpu/gpu_device.cc:1199] 0:   N \n",
            "2021-12-14 22:33:33.873142: I tensorflow/stream_executor/cuda/cuda_gpu_executor.cc:983] successful NUMA node read from SysFS had negative value (-1), but there must be at least one NUMA node, so returning NUMA node zero\n",
            "2021-12-14 22:33:33.873883: I tensorflow/stream_executor/cuda/cuda_gpu_executor.cc:983] successful NUMA node read from SysFS had negative value (-1), but there must be at least one NUMA node, so returning NUMA node zero\n",
            "2021-12-14 22:33:33.874656: I tensorflow/core/common_runtime/gpu/gpu_device.cc:1325] Created TensorFlow device (/job:localhost/replica:0/task:0/device:GPU:0 with 10813 MB memory) -> physical GPU (device: 0, name: Tesla K80, pci bus id: 0000:00:04.0, compute capability: 3.7)\n",
            "WARNING:tensorflow:From sequence_gan.py:112: The name tf.global_variables_initializer is deprecated. Please use tf.compat.v1.global_variables_initializer instead.\n",
            "\n",
            "2021-12-14 22:33:34.965213: I tensorflow/stream_executor/platform/default/dso_loader.cc:44] Successfully opened dynamic library libcublas.so.10\n",
            "Start pre-training...\n",
            "Pre-training generator epoch #0, loss=8.515262\n",
            "pre-train epoch  0 test_loss  11.46279\n",
            "Pre-training generator epoch #1, loss=8.421434\n",
            "Pre-training generator epoch #2, loss=8.273404\n",
            "Pre-training generator epoch #3, loss=7.880078\n",
            "Pre-training generator epoch #4, loss=6.948311\n",
            "Pre-training generator epoch #5, loss=6.135634\n",
            "pre-train epoch  5 test_loss  11.121077\n",
            "Pre-training generator epoch #6, loss=5.670224\n",
            "Pre-training generator epoch #7, loss=5.437852\n",
            "Pre-training generator epoch #8, loss=5.323965\n",
            "Pre-training generator epoch #9, loss=5.265479\n",
            "Start pre-training discriminator...\n",
            "2021-12-14 22:33:37.183835: I tensorflow/stream_executor/platform/default/dso_loader.cc:44] Successfully opened dynamic library libcudnn.so.7\n",
            "Pre-training discriminator epoch #0, loss=-0.006750\n",
            "Pre-training discriminator epoch #1, loss=-0.013823\n",
            "Pre-training discriminator epoch #2, loss=-0.014111\n",
            "Pre-training discriminator epoch #3, loss=-0.018092\n",
            "Pre-training discriminator epoch #4, loss=-0.018924\n",
            "Pre-training discriminator epoch #5, loss=-0.024450\n",
            "Pre-training discriminator epoch #6, loss=-0.043567\n",
            "Pre-training discriminator epoch #7, loss=-0.046858\n",
            "Pre-training discriminator epoch #8, loss=-0.087826\n",
            "Pre-training discriminator epoch #9, loss=-0.111773\n",
            "Pre-training discriminator epoch #10, loss=-0.181570\n",
            "Pre-training discriminator epoch #11, loss=-0.161879\n",
            "Pre-training discriminator epoch #12, loss=-0.159215\n",
            "Pre-training discriminator epoch #13, loss=-0.135219\n",
            "Pre-training discriminator epoch #14, loss=-0.180812\n",
            "Pre-training discriminator epoch #15, loss=-0.188167\n",
            "Pre-training discriminator epoch #16, loss=-0.197074\n",
            "Pre-training discriminator epoch #17, loss=-0.184790\n",
            "Pre-training discriminator epoch #18, loss=-0.181713\n",
            "Pre-training discriminator epoch #19, loss=-0.156938\n",
            "Pre-training discriminator epoch #20, loss=-0.167154\n",
            "Pre-training discriminator epoch #21, loss=-0.203886\n",
            "Pre-training discriminator epoch #22, loss=-0.188861\n",
            "Pre-training discriminator epoch #23, loss=-0.159800\n",
            "Pre-training discriminator epoch #24, loss=-0.169037\n",
            "Pre-training discriminator epoch #25, loss=-0.180482\n",
            "Pre-training discriminator epoch #26, loss=-0.197532\n",
            "Pre-training discriminator epoch #27, loss=-0.175623\n",
            "Pre-training discriminator epoch #28, loss=-0.190838\n",
            "Pre-training discriminator epoch #29, loss=-0.162374\n",
            "Pre-training discriminator epoch #30, loss=-0.175289\n",
            "Pre-training discriminator epoch #31, loss=-0.402376\n",
            "Pre-training discriminator epoch #32, loss=-0.181310\n",
            "Pre-training discriminator epoch #33, loss=-0.191426\n",
            "Pre-training discriminator epoch #34, loss=-0.157130\n",
            "Pre-training discriminator epoch #35, loss=-0.185663\n",
            "Pre-training discriminator epoch #36, loss=-0.189911\n",
            "Pre-training discriminator epoch #37, loss=-0.198478\n",
            "Pre-training discriminator epoch #38, loss=-0.151033\n",
            "Pre-training discriminator epoch #39, loss=-0.187954\n",
            "Pre-training discriminator epoch #40, loss=-0.179129\n",
            "Pre-training discriminator epoch #41, loss=-0.197035\n",
            "Pre-training discriminator epoch #42, loss=-0.202064\n",
            "Pre-training discriminator epoch #43, loss=-0.173713\n",
            "Pre-training discriminator epoch #44, loss=-0.182229\n",
            "Pre-training discriminator epoch #45, loss=-0.192988\n",
            "Pre-training discriminator epoch #46, loss=-0.196313\n",
            "Pre-training discriminator epoch #47, loss=-0.176928\n",
            "Pre-training discriminator epoch #48, loss=-0.174777\n",
            "Pre-training discriminator epoch #49, loss=-0.204725\n",
            "#########################################################################\n",
            "Start Adversarial Training...\n",
            "Training generator epoch #0, loss=108.595139\n",
            "total_batch:  0 test_loss:  10.269838\n",
            "Training discriminator epoch #0-0, loss=-0.172637\n",
            "Training discriminator epoch #0-1, loss=-0.191038\n",
            "Training discriminator epoch #0-2, loss=-0.199829\n",
            "Training discriminator epoch #0-3, loss=-0.209985\n",
            "Training discriminator epoch #0-4, loss=-0.173441\n",
            "Training generator epoch #1, loss=104.258102\n",
            "Training discriminator epoch #1-0, loss=-0.163837\n",
            "Training discriminator epoch #1-1, loss=-0.189809\n",
            "Training discriminator epoch #1-2, loss=-0.161780\n",
            "Training discriminator epoch #1-3, loss=-0.173254\n",
            "Training discriminator epoch #1-4, loss=-0.186846\n",
            "Training generator epoch #2, loss=105.554230\n",
            "Training discriminator epoch #2-0, loss=-0.195984\n",
            "Training discriminator epoch #2-1, loss=-0.182054\n",
            "Training discriminator epoch #2-2, loss=-0.190183\n",
            "Training discriminator epoch #2-3, loss=-0.168150\n",
            "Training discriminator epoch #2-4, loss=-0.170994\n",
            "Training generator epoch #3, loss=98.443756\n",
            "Training discriminator epoch #3-0, loss=-0.191926\n",
            "Training discriminator epoch #3-1, loss=-0.207293\n",
            "Training discriminator epoch #3-2, loss=-0.173929\n",
            "Training discriminator epoch #3-3, loss=-0.189990\n",
            "Training discriminator epoch #3-4, loss=0.402449\n",
            "Training generator epoch #4, loss=97.211670\n",
            "Training discriminator epoch #4-0, loss=-0.176424\n",
            "Training discriminator epoch #4-1, loss=-0.171274\n",
            "Training discriminator epoch #4-2, loss=-0.191652\n",
            "Training discriminator epoch #4-3, loss=-0.195207\n",
            "Training discriminator epoch #4-4, loss=-0.196663\n",
            "Training generator epoch #5, loss=97.176285\n",
            "total_batch:  5 test_loss:  10.438092\n",
            "Training discriminator epoch #5-0, loss=-0.174508\n",
            "Training discriminator epoch #5-1, loss=-0.189548\n",
            "Training discriminator epoch #5-2, loss=-0.190458\n",
            "Training discriminator epoch #5-3, loss=-0.202214\n",
            "Training discriminator epoch #5-4, loss=-0.170042\n",
            "Training generator epoch #6, loss=94.270737\n",
            "Training discriminator epoch #6-0, loss=-0.192594\n",
            "Training discriminator epoch #6-1, loss=-0.190389\n",
            "Training discriminator epoch #6-2, loss=-0.192707\n",
            "Training discriminator epoch #6-3, loss=-0.186528\n",
            "Training discriminator epoch #6-4, loss=-0.169744\n",
            "Training generator epoch #7, loss=95.122055\n",
            "Training discriminator epoch #7-0, loss=-0.188009\n",
            "Training discriminator epoch #7-1, loss=-0.195598\n",
            "Training discriminator epoch #7-2, loss=-0.170254\n",
            "Training discriminator epoch #7-3, loss=-0.194284\n",
            "Training discriminator epoch #7-4, loss=-0.169033\n",
            "Training generator epoch #8, loss=93.023491\n",
            "Training discriminator epoch #8-0, loss=-0.197705\n",
            "Training discriminator epoch #8-1, loss=-0.196030\n",
            "Training discriminator epoch #8-2, loss=-0.207179\n",
            "Training discriminator epoch #8-3, loss=-0.206956\n",
            "Training discriminator epoch #8-4, loss=-0.189074\n",
            "Training generator epoch #9, loss=92.813744\n",
            "total_batch:  9 test_loss:  10.214674\n",
            "Training discriminator epoch #9-0, loss=-0.162704\n",
            "Training discriminator epoch #9-1, loss=-0.194307\n",
            "Training discriminator epoch #9-2, loss=-0.170796\n",
            "Training discriminator epoch #9-3, loss=-0.191656\n",
            "Training discriminator epoch #9-4, loss=-0.190035\n",
            "\tBLEU-2 score:  0.85\n",
            "\tBLEU-3 score:  0.672\n",
            "\tBLEU-4 score:  0.557\n",
            "\tBLEU-5 score:  0.544\n"
          ]
        }
      ]
    },
    {
      "cell_type": "code",
      "source": [
        ""
      ],
      "metadata": {
        "id": "nVxx8WWI0f2B"
      },
      "execution_count": null,
      "outputs": []
    }
  ]
}